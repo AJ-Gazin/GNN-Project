{
 "cells": [
  {
   "cell_type": "code",
   "execution_count": 1,
   "metadata": {},
   "outputs": [
    {
     "name": "stdout",
     "output_type": "stream",
     "text": [
      "2.2.1+cu121\n",
      "2.2.1+cu121\n"
     ]
    }
   ],
   "source": [
    "import os\n",
    "import torch\n",
    "os.environ['TORCH'] = torch.__version__\n",
    "print(torch.__version__)\n",
    "import sys\n",
    "\n",
    "sys.path.insert(0, \"./interactive_tutorials\")\n",
    "\n",
    "import pandas as pd\n",
    "# from arango import ArangoClient\n",
    "from tqdm import tqdm\n",
    "import numpy as np\n",
    "import matplotlib.pyplot as plt\n",
    "import itertools\n",
    "import requests\n",
    "import sys\n",
    "import oasis\n",
    "from arango import ArangoClient\n",
    "from pyArango.connection import Connection\n",
    "\n",
    "import torch\n",
    "import torch.nn.functional as F\n",
    "from torch.nn import Linear\n",
    "from arango import ArangoClient\n",
    "import torch_geometric.transforms as T\n",
    "from torch_geometric.nn import SAGEConv, to_hetero\n",
    "from torch_geometric.transforms import RandomLinkSplit, ToUndirected\n",
    "from sentence_transformers import SentenceTransformer\n",
    "from torch_geometric.data import HeteroData\n",
    "import yaml\n",
    "\n",
    "print(torch.__version__)"
   ]
  },
  {
   "cell_type": "markdown",
   "metadata": {},
   "source": [
    "### We load in our reviews. This csv was generated thru categorizer.ipynb - the categories are llama3 predicted based on review title + text.\n",
    "Currently, organized_reviews is a small sample (6100/~580000) of rows from the source. There seems to be some internal sorting based on category (e.g. first 5 items are all food) which may bias. \n",
    "TODO: Change to random sampling"
   ]
  },
  {
   "cell_type": "code",
   "execution_count": 2,
   "metadata": {},
   "outputs": [
    {
     "data": {
      "text/html": [
       "<div>\n",
       "<style scoped>\n",
       "    .dataframe tbody tr th:only-of-type {\n",
       "        vertical-align: middle;\n",
       "    }\n",
       "\n",
       "    .dataframe tbody tr th {\n",
       "        vertical-align: top;\n",
       "    }\n",
       "\n",
       "    .dataframe thead th {\n",
       "        text-align: right;\n",
       "    }\n",
       "</style>\n",
       "<table border=\"1\" class=\"dataframe\">\n",
       "  <thead>\n",
       "    <tr style=\"text-align: right;\">\n",
       "      <th></th>\n",
       "      <th>Id</th>\n",
       "      <th>ProductId</th>\n",
       "      <th>UserId</th>\n",
       "      <th>ProfileName</th>\n",
       "      <th>HelpfulnessNumerator</th>\n",
       "      <th>HelpfulnessDenominator</th>\n",
       "      <th>Score</th>\n",
       "      <th>Time</th>\n",
       "      <th>Summary</th>\n",
       "      <th>Text</th>\n",
       "      <th>category</th>\n",
       "      <th>subcategory</th>\n",
       "    </tr>\n",
       "  </thead>\n",
       "  <tbody>\n",
       "    <tr>\n",
       "      <th>0</th>\n",
       "      <td>1</td>\n",
       "      <td>B001E4KFG0</td>\n",
       "      <td>A3SGXH7AUHU8GW</td>\n",
       "      <td>delmartian</td>\n",
       "      <td>1</td>\n",
       "      <td>1</td>\n",
       "      <td>5</td>\n",
       "      <td>1303862400</td>\n",
       "      <td>Good Quality Dog Food</td>\n",
       "      <td>I have bought several of the Vitality canned d...</td>\n",
       "      <td>Pet</td>\n",
       "      <td>Food</td>\n",
       "    </tr>\n",
       "    <tr>\n",
       "      <th>1</th>\n",
       "      <td>2</td>\n",
       "      <td>B00813GRG4</td>\n",
       "      <td>A1D87F6ZCVE5NK</td>\n",
       "      <td>dll pa</td>\n",
       "      <td>0</td>\n",
       "      <td>0</td>\n",
       "      <td>1</td>\n",
       "      <td>1346976000</td>\n",
       "      <td>Not as Advertised</td>\n",
       "      <td>Product arrived labeled as Jumbo Salted Peanut...</td>\n",
       "      <td>Food</td>\n",
       "      <td>Snack</td>\n",
       "    </tr>\n",
       "    <tr>\n",
       "      <th>2</th>\n",
       "      <td>3</td>\n",
       "      <td>B000LQOCH0</td>\n",
       "      <td>ABXLMWJIXXAIN</td>\n",
       "      <td>Natalia Corres \"Natalia Corres\"</td>\n",
       "      <td>1</td>\n",
       "      <td>1</td>\n",
       "      <td>4</td>\n",
       "      <td>1219017600</td>\n",
       "      <td>\"Delight\" says it all</td>\n",
       "      <td>This is a confection that has been around a fe...</td>\n",
       "      <td>Candy</td>\n",
       "      <td>Treat</td>\n",
       "    </tr>\n",
       "    <tr>\n",
       "      <th>3</th>\n",
       "      <td>4</td>\n",
       "      <td>B000UA0QIQ</td>\n",
       "      <td>A395BORC6FGVXV</td>\n",
       "      <td>Karl</td>\n",
       "      <td>3</td>\n",
       "      <td>3</td>\n",
       "      <td>2</td>\n",
       "      <td>1307923200</td>\n",
       "      <td>Cough Medicine</td>\n",
       "      <td>If you are looking for the secret ingredient i...</td>\n",
       "      <td>Food</td>\n",
       "      <td>Beverage</td>\n",
       "    </tr>\n",
       "    <tr>\n",
       "      <th>4</th>\n",
       "      <td>5</td>\n",
       "      <td>B006K2ZZ7K</td>\n",
       "      <td>A1UQRSCLF8GW1T</td>\n",
       "      <td>Michael D. Bigham \"M. Wassir\"</td>\n",
       "      <td>0</td>\n",
       "      <td>0</td>\n",
       "      <td>5</td>\n",
       "      <td>1350777600</td>\n",
       "      <td>Great taffy</td>\n",
       "      <td>Great taffy at a great price.  There was a wid...</td>\n",
       "      <td>Food</td>\n",
       "      <td>Candy</td>\n",
       "    </tr>\n",
       "  </tbody>\n",
       "</table>\n",
       "</div>"
      ],
      "text/plain": [
       "   Id   ProductId          UserId                      ProfileName  \\\n",
       "0   1  B001E4KFG0  A3SGXH7AUHU8GW                       delmartian   \n",
       "1   2  B00813GRG4  A1D87F6ZCVE5NK                           dll pa   \n",
       "2   3  B000LQOCH0   ABXLMWJIXXAIN  Natalia Corres \"Natalia Corres\"   \n",
       "3   4  B000UA0QIQ  A395BORC6FGVXV                             Karl   \n",
       "4   5  B006K2ZZ7K  A1UQRSCLF8GW1T    Michael D. Bigham \"M. Wassir\"   \n",
       "\n",
       "   HelpfulnessNumerator  HelpfulnessDenominator  Score        Time  \\\n",
       "0                     1                       1      5  1303862400   \n",
       "1                     0                       0      1  1346976000   \n",
       "2                     1                       1      4  1219017600   \n",
       "3                     3                       3      2  1307923200   \n",
       "4                     0                       0      5  1350777600   \n",
       "\n",
       "                 Summary                                               Text  \\\n",
       "0  Good Quality Dog Food  I have bought several of the Vitality canned d...   \n",
       "1      Not as Advertised  Product arrived labeled as Jumbo Salted Peanut...   \n",
       "2  \"Delight\" says it all  This is a confection that has been around a fe...   \n",
       "3         Cough Medicine  If you are looking for the secret ingredient i...   \n",
       "4            Great taffy  Great taffy at a great price.  There was a wid...   \n",
       "\n",
       "  category subcategory  \n",
       "0      Pet        Food  \n",
       "1     Food       Snack  \n",
       "2    Candy       Treat  \n",
       "3     Food    Beverage  \n",
       "4     Food       Candy  "
      ]
     },
     "execution_count": 2,
     "metadata": {},
     "output_type": "execute_result"
    }
   ],
   "source": [
    "#TODO implement weighting for helpfulness_score\n",
    "metadata_path = './amazon_data_source/organized_reviews.csv'\n",
    "df = pd.read_csv(metadata_path)\n",
    "\n",
    "df.head()\n",
    "#"
   ]
  },
  {
   "cell_type": "code",
   "execution_count": 3,
   "metadata": {},
   "outputs": [
    {
     "name": "stdout",
     "output_type": "stream",
     "text": [
      "There are  941  unique products\n",
      "And reviews from 5844 unique users\n",
      "The average review score is 4.17672131147541\n"
     ]
    }
   ],
   "source": [
    "df.columns\n",
    "print(\"There are \",df['ProductId'].nunique(),\" unique products\")\n",
    "print(\"And reviews from\",df['UserId'].nunique(), \"unique users\")\n",
    "print(\"The average review score is\", df['Score'].mean())"
   ]
  },
  {
   "cell_type": "markdown",
   "metadata": {},
   "source": [
    "There are 941 unique "
   ]
  },
  {
   "cell_type": "markdown",
   "metadata": {},
   "source": []
  },
  {
   "cell_type": "code",
   "execution_count": 4,
   "metadata": {},
   "outputs": [],
   "source": [
    "df['ProductId'] = df['ProductId'].astype(str)"
   ]
  },
  {
   "cell_type": "code",
   "execution_count": 5,
   "metadata": {},
   "outputs": [
    {
     "data": {
      "text/html": [
       "<div>\n",
       "<style scoped>\n",
       "    .dataframe tbody tr th:only-of-type {\n",
       "        vertical-align: middle;\n",
       "    }\n",
       "\n",
       "    .dataframe tbody tr th {\n",
       "        vertical-align: top;\n",
       "    }\n",
       "\n",
       "    .dataframe thead th {\n",
       "        text-align: right;\n",
       "    }\n",
       "</style>\n",
       "<table border=\"1\" class=\"dataframe\">\n",
       "  <thead>\n",
       "    <tr style=\"text-align: right;\">\n",
       "      <th></th>\n",
       "      <th>product_id</th>\n",
       "      <th>user_id</th>\n",
       "      <th>username</th>\n",
       "      <th>rating</th>\n",
       "      <th>review_title</th>\n",
       "      <th>review_content</th>\n",
       "      <th>category</th>\n",
       "      <th>subcategory</th>\n",
       "    </tr>\n",
       "  </thead>\n",
       "  <tbody>\n",
       "    <tr>\n",
       "      <th>6095</th>\n",
       "      <td>B009HINRX8</td>\n",
       "      <td>ADDBLG0CFY9AI</td>\n",
       "      <td>S.A.D.</td>\n",
       "      <td>5</td>\n",
       "      <td>Best of the Tassimo's</td>\n",
       "      <td>We've tried many Tassimo flavors.  This is by ...</td>\n",
       "      <td>Home</td>\n",
       "      <td>Goods</td>\n",
       "    </tr>\n",
       "    <tr>\n",
       "      <th>6096</th>\n",
       "      <td>B009HINRX8</td>\n",
       "      <td>ATNQNZEHWMR9U</td>\n",
       "      <td>Kokopelli</td>\n",
       "      <td>3</td>\n",
       "      <td>Note: Rating both coffee and seller</td>\n",
       "      <td>This coffee is good but, for me, it's nothing ...</td>\n",
       "      <td>Food</td>\n",
       "      <td>Beverage</td>\n",
       "    </tr>\n",
       "    <tr>\n",
       "      <th>6097</th>\n",
       "      <td>B009HINRX8</td>\n",
       "      <td>A2CAZG1CQ8BQI5</td>\n",
       "      <td>Patricia J. Nohalty</td>\n",
       "      <td>5</td>\n",
       "      <td>Kona for Tassimo</td>\n",
       "      <td>Of all the coffee's available for Tassimo this...</td>\n",
       "      <td>Electronics</td>\n",
       "      <td>Homebrewed</td>\n",
       "    </tr>\n",
       "    <tr>\n",
       "      <th>6098</th>\n",
       "      <td>B009UOFU20</td>\n",
       "      <td>AJVB004EB0MVK</td>\n",
       "      <td>D. Christofferson</td>\n",
       "      <td>1</td>\n",
       "      <td>weak coffee not good for a premium product and...</td>\n",
       "      <td>This coffee supposedly is premium, it tastes w...</td>\n",
       "      <td>Home</td>\n",
       "      <td>Supplies</td>\n",
       "    </tr>\n",
       "    <tr>\n",
       "      <th>6099</th>\n",
       "      <td>B009WSNWC4</td>\n",
       "      <td>AMP7K1O84DH1T</td>\n",
       "      <td>ESTY</td>\n",
       "      <td>5</td>\n",
       "      <td>DELICIOUS</td>\n",
       "      <td>Purchased this product at a local store in NY ...</td>\n",
       "      <td>Food</td>\n",
       "      <td>Snack</td>\n",
       "    </tr>\n",
       "  </tbody>\n",
       "</table>\n",
       "</div>"
      ],
      "text/plain": [
       "      product_id         user_id             username  rating  \\\n",
       "6095  B009HINRX8   ADDBLG0CFY9AI               S.A.D.       5   \n",
       "6096  B009HINRX8   ATNQNZEHWMR9U            Kokopelli       3   \n",
       "6097  B009HINRX8  A2CAZG1CQ8BQI5  Patricia J. Nohalty       5   \n",
       "6098  B009UOFU20   AJVB004EB0MVK    D. Christofferson       1   \n",
       "6099  B009WSNWC4   AMP7K1O84DH1T                 ESTY       5   \n",
       "\n",
       "                                           review_title  \\\n",
       "6095                              Best of the Tassimo's   \n",
       "6096                Note: Rating both coffee and seller   \n",
       "6097                                   Kona for Tassimo   \n",
       "6098  weak coffee not good for a premium product and...   \n",
       "6099                                          DELICIOUS   \n",
       "\n",
       "                                         review_content      category  \\\n",
       "6095  We've tried many Tassimo flavors.  This is by ...          Home   \n",
       "6096  This coffee is good but, for me, it's nothing ...          Food   \n",
       "6097  Of all the coffee's available for Tassimo this...   Electronics   \n",
       "6098  This coffee supposedly is premium, it tastes w...          Home   \n",
       "6099  Purchased this product at a local store in NY ...          Food   \n",
       "\n",
       "      subcategory  \n",
       "6095        Goods  \n",
       "6096     Beverage  \n",
       "6097   Homebrewed  \n",
       "6098     Supplies  \n",
       "6099        Snack  "
      ]
     },
     "execution_count": 5,
     "metadata": {},
     "output_type": "execute_result"
    }
   ],
   "source": [
    "reviews_df = df[['ProductId', 'UserId', 'ProfileName', 'Score', 'Summary', 'Text', 'category', 'subcategory']]\n",
    "reviews_df.columns = ['product_id', 'user_id', 'username', 'rating', 'review_title', 'review_content', 'category', 'subcategory']\n",
    "reviews_df = reviews_df.sort_values('product_id')\n",
    "reviews_df.reset_index(drop=True, inplace=True)\n",
    "\n",
    "reviews_df['username'] = reviews_df['username'].fillna('unknown')\n",
    "reviews_df['review_title'] = reviews_df['review_title'].fillna('')\n",
    "reviews_df['rating'] = reviews_df['rating'].astype(int) \n",
    "reviews_df.tail()"
   ]
  },
  {
   "cell_type": "code",
   "execution_count": 6,
   "metadata": {},
   "outputs": [],
   "source": [
    "#indexes by product_id\n",
    "indices = pd.Series(reviews_df.index, index=reviews_df['product_id']).drop_duplicates()"
   ]
  },
  {
   "cell_type": "code",
   "execution_count": 7,
   "metadata": {},
   "outputs": [
    {
     "name": "stdout",
     "output_type": "stream",
     "text": [
      "product_id        object\n",
      "user_id           object\n",
      "username          object\n",
      "rating             int32\n",
      "review_title      object\n",
      "review_content    object\n",
      "category          object\n",
      "subcategory       object\n",
      "dtype: object\n"
     ]
    }
   ],
   "source": [
    "print(reviews_df.dtypes)"
   ]
  },
  {
   "cell_type": "code",
   "execution_count": 8,
   "metadata": {},
   "outputs": [],
   "source": [
    "def node_mappings(df, index_col):\n",
    "    mapping = {index: i for i, index in enumerate(df[index_col].unique())}\n",
    "    return mapping\n",
    "\n",
    "def create_reverse_mapping(mapping):\n",
    "    return {emb_id: user_id for user_id, emb_id in mapping.items()}"
   ]
  },
  {
   "cell_type": "code",
   "execution_count": 9,
   "metadata": {},
   "outputs": [],
   "source": [
    "user_mapping = node_mappings(reviews_df, index_col='user_id')\n",
    "rev_user_mapping = create_reverse_mapping(user_mapping)"
   ]
  },
  {
   "cell_type": "code",
   "execution_count": 10,
   "metadata": {},
   "outputs": [],
   "source": [
    "product_mapping = node_mappings(reviews_df, index_col='product_id')"
   ]
  },
  {
   "cell_type": "code",
   "execution_count": 11,
   "metadata": {},
   "outputs": [
    {
     "name": "stdout",
     "output_type": "stream",
     "text": [
      "B00002NCJC 0\n",
      "B00002Z754 1\n",
      "B000084DVR 2\n",
      "B000084E1U 3\n",
      "B0000CERHH 4\n",
      "B0000CGFV4 5\n",
      "B0000D94SZ 6\n",
      "B0000DC5IY 7\n",
      "B0000E65W9 8\n",
      "B0000GGI00 9\n",
      "B0000TU8EO 10\n",
      "B0000VLH8S 11\n",
      "B0000VMBDI 12\n",
      "B0001217OA 13\n",
      "B00015BQB6 14\n",
      "B00016UX0K 15\n",
      "B0001E3LBU 16\n",
      "B0001FQVCK 17\n",
      "B0001KL1Y8 18\n",
      "B0001N4886 19\n",
      "A13RRPGE79XFFH 0\n",
      "A196AJHU9EASJN 1\n",
      "A29Z5PI9BW2PU3 2\n",
      "A3B8RCEI0FXFI6 3\n",
      "A3DKGXWUEP1AI2 4\n",
      "A1UGDJP1ZJWVPF 5\n",
      "A3DH85EYHW4AQH 6\n",
      "A126F7OK2T4JUX 7\n",
      "A29VLI9PBSO927 8\n",
      "AOJ6IGSCY7SO9 9\n",
      "A3LSUKN4IFS6VD 10\n",
      "A2R91PG1XPNO0B 11\n",
      "A3GKE33FI1QKA 12\n",
      "AGYZZ3QXV9S8 13\n",
      "A1GJ37VZOZ6S1W 14\n",
      "A1GYEGLX3P2Y7P 15\n",
      "A23EN4MZKDZIDV 16\n",
      "A2VBTN6ZR67YOF 17\n",
      "A2D16Q29G5S0E9 18\n",
      "A21EHWHI9XQY10 19\n"
     ]
    }
   ],
   "source": [
    "from itertools import islice\n",
    "\n",
    "\n",
    "for key, value in islice(product_mapping.items(), 20):\n",
    "    print(key, value)\n",
    "for key, value in islice(user_mapping.items(), 20):\n",
    "    print(key, value)"
   ]
  },
  {
   "cell_type": "code",
   "execution_count": 12,
   "metadata": {},
   "outputs": [
    {
     "data": {
      "text/plain": [
       "941"
      ]
     },
     "execution_count": 12,
     "metadata": {},
     "output_type": "execute_result"
    }
   ],
   "source": [
    "p_id = reviews_df['product_id'].tolist()\n",
    "p_id = list(dict.fromkeys(p_id))\n",
    "len(p_id)"
   ]
  },
  {
   "cell_type": "markdown",
   "metadata": {},
   "source": [
    "##ArangoDB setup"
   ]
  },
  {
   "cell_type": "code",
   "execution_count": 13,
   "metadata": {},
   "outputs": [
    {
     "name": "stdout",
     "output_type": "stream",
     "text": [
      "Requesting new temp credentials.\n",
      "Temp database ready to use.\n"
     ]
    }
   ],
   "source": [
    "# get temporary credentials for ArangoDB on cloud\n",
    "login = oasis.getTempCredentials(tutorialName=\"MovieRecommendations\", credentialProvider=\"https://tutorials.arangodb.cloud:8529/_db/_system/tutorialDB/tutorialDB\")\n",
    "\n",
    "# Connect to the temp database\n",
    "# Please note that we use the python-arango driver as it has better support for ArangoSearch\n",
    "product_rec_db = oasis.connect_python_arango(login)"
   ]
  },
  {
   "cell_type": "code",
   "execution_count": 14,
   "metadata": {},
   "outputs": [
    {
     "name": "stdout",
     "output_type": "stream",
     "text": [
      "https://tutorials.arangodb.cloud:8529\n",
      "Username: TUTi7laedtbc3qew20zgtf2vo\n",
      "Password: TUTeh99uje2o88ue51axbd1tk\n",
      "Database: TUTzveg5qo7hudznlw1jok7x\n"
     ]
    }
   ],
   "source": [
    "# url to access the ArangoDB Web UI\n",
    "print(\"https://\"+login[\"hostname\"]+\":\"+str(login[\"port\"]))\n",
    "print(\"Username: \" + login[\"username\"])\n",
    "print(\"Password: \" + login[\"password\"])\n",
    "print(\"Database: \" + login[\"dbName\"])"
   ]
  },
  {
   "cell_type": "code",
   "execution_count": 15,
   "metadata": {},
   "outputs": [],
   "source": [
    "if not product_rec_db.has_collection(\"Product\"):\n",
    "    product_rec_db.create_collection(\"Product\", replication_factor=3)"
   ]
  },
  {
   "cell_type": "code",
   "execution_count": 16,
   "metadata": {},
   "outputs": [],
   "source": [
    "batch = []\n",
    "BATCH_SIZE = 128\n",
    "batch_idx = 1\n",
    "index = 0\n",
    "product_collection = product_rec_db[\"Product\"]"
   ]
  },
  {
   "cell_type": "code",
   "execution_count": 17,
   "metadata": {},
   "outputs": [
    {
     "name": "stderr",
     "output_type": "stream",
     "text": [
      "100%|██████████| 941/941 [00:00<00:00, 2280.29it/s]"
     ]
    },
    {
     "name": "stdout",
     "output_type": "stream",
     "text": [
      "Inserting batch the last batch!\n"
     ]
    },
    {
     "name": "stderr",
     "output_type": "stream",
     "text": [
      "\n"
     ]
    }
   ],
   "source": [
    "for idx in tqdm(range(len(p_id))):\n",
    "    insert_doc = {}\n",
    "    product_id = str(p_id[idx])\n",
    "\n",
    "    emb_id = \"Product/\" + str(product_mapping[p_id[idx]])\n",
    "    insert_doc[\"_id\"] = emb_id\n",
    "    \n",
    "    insert_doc[\"productId\"] = p_id[idx]\n",
    "\n",
    "    batch.append(insert_doc)\n",
    "    index +=1\n",
    "    last_record = (idx == (len(p_id) - 1))\n",
    "    if index % BATCH_SIZE == 0:\n",
    "        #print(\"Inserting batch %d\" % (batch_idx))\n",
    "        batch_idx += 1\n",
    "        product_collection.import_bulk(batch)\n",
    "        batch = []\n",
    "    if last_record and len(batch) > 0:\n",
    "        print(\"Inserting batch the last batch!\")\n",
    "        product_collection.import_bulk(batch)"
   ]
  },
  {
   "cell_type": "markdown",
   "metadata": {},
   "source": [
    "#Creating User Collection\n",
    "\n"
   ]
  },
  {
   "cell_type": "code",
   "execution_count": 18,
   "metadata": {},
   "outputs": [],
   "source": [
    "if not product_rec_db.has_collection(\"Users\"):\n",
    "    product_rec_db.create_collection(\"Users\", replication_factor=3)"
   ]
  },
  {
   "cell_type": "code",
   "execution_count": 19,
   "metadata": {},
   "outputs": [
    {
     "name": "stdout",
     "output_type": "stream",
     "text": [
      "Total number of Users: 5844\n"
     ]
    }
   ],
   "source": [
    "total_users = np.unique(reviews_df[['user_id']].values.flatten()).shape[0]\n",
    "print(\"Total number of Users:\", total_users)"
   ]
  },
  {
   "cell_type": "code",
   "execution_count": 21,
   "metadata": {},
   "outputs": [],
   "source": [
    "#uploads all users to ArangoDB\n",
    "def populate_user_collection(total_users):\n",
    "    batch = []\n",
    "    BATCH_SIZE = 50\n",
    "    batch_idx = 1\n",
    "    index = 0\n",
    "    user_ids = list(user_mapping.keys())\n",
    "    user_collection = product_rec_db[\"Users\"]\n",
    "    for idx in tqdm(range(total_users)):\n",
    "        insert_doc = {}\n",
    "\n",
    "        insert_doc[\"_id\"] = \"Users/\" + str(user_mapping[user_ids[idx]])\n",
    "        insert_doc[\"original_id\"] = str(user_ids[idx])\n",
    "\n",
    "        batch.append(insert_doc)\n",
    "        index +=1\n",
    "        last_record = (idx == (total_users - 1))\n",
    "        if index % BATCH_SIZE == 0:\n",
    "            #print(\"Inserting batch %d\" % (batch_idx))\n",
    "            batch_idx += 1\n",
    "            user_collection.import_bulk(batch)\n",
    "            batch = []\n",
    "        if last_record and len(batch) > 0:\n",
    "            print(\"Inserting batch the last batch!\")\n",
    "            user_collection.import_bulk(batch)"
   ]
  },
  {
   "cell_type": "code",
   "execution_count": 22,
   "metadata": {},
   "outputs": [
    {
     "name": "stderr",
     "output_type": "stream",
     "text": [
      "100%|██████████| 5844/5844 [00:05<00:00, 1022.83it/s]"
     ]
    },
    {
     "name": "stdout",
     "output_type": "stream",
     "text": [
      "Inserting batch the last batch!\n"
     ]
    },
    {
     "name": "stderr",
     "output_type": "stream",
     "text": [
      "\n"
     ]
    }
   ],
   "source": [
    "populate_user_collection(total_users)"
   ]
  },
  {
   "cell_type": "markdown",
   "metadata": {},
   "source": [
    "#Ratings\n"
   ]
  },
  {
   "cell_type": "code",
   "execution_count": 23,
   "metadata": {},
   "outputs": [],
   "source": [
    "#Create Ratings collection in ArangoDB\n",
    "if not product_rec_db.has_collection(\"Ratings\"):\n",
    "    product_rec_db.create_collection(\"Ratings\", edge=True, replication_factor=3)"
   ]
  },
  {
   "cell_type": "code",
   "execution_count": 24,
   "metadata": {},
   "outputs": [],
   "source": [
    "# defining graph schema in ArangoDB\n",
    "\n",
    "# create a new graph called product_rating_graph in the temp database if it does not already exist.\n",
    "if not product_rec_db.has_graph(\"product_rating_graph\"):\n",
    "    product_rec_db.create_graph('product_rating_graph')\n",
    "\n",
    "# This returns and API wrapper for the above created graphs -> so we can command straight to the graph\n",
    "product_rating_graph = product_rec_db.graph(\"product_rating_graph\")"
   ]
  },
  {
   "cell_type": "code",
   "execution_count": 25,
   "metadata": {},
   "outputs": [
    {
     "name": "stdout",
     "output_type": "stream",
     "text": [
      "creating\n"
     ]
    }
   ],
   "source": [
    "if not product_rating_graph.has_vertex_collection(\"Users\"):\n",
    "    print(\"creating\")\n",
    "    product_rating_graph.vertex_collection(\"Users\")"
   ]
  },
  {
   "cell_type": "code",
   "execution_count": 26,
   "metadata": {},
   "outputs": [
    {
     "name": "stdout",
     "output_type": "stream",
     "text": [
      "creating\n"
     ]
    }
   ],
   "source": [
    "if not product_rating_graph.has_vertex_collection(\"Product\"):\n",
    "    print(\"creating\")\n",
    "    product_rating_graph.vertex_collection(\"Product\")"
   ]
  },
  {
   "cell_type": "code",
   "execution_count": 27,
   "metadata": {},
   "outputs": [],
   "source": [
    "# creating edge definitions named \"Ratings. This creates any missing\n",
    "# collections and returns an API wrapper for \"Ratings\" edge collection.\n",
    "if not product_rating_graph.has_edge_definition(\"Ratings\"):\n",
    "    Ratings = product_rating_graph.create_edge_definition(\n",
    "        edge_collection='Ratings',\n",
    "        from_vertex_collections=['Users'],\n",
    "        to_vertex_collections=['Product']\n",
    "    )"
   ]
  },
  {
   "cell_type": "code",
   "execution_count": 28,
   "metadata": {},
   "outputs": [
    {
     "name": "stdout",
     "output_type": "stream",
     "text": [
      "['A13RRPGE79XFFH' 'A196AJHU9EASJN' 'A29Z5PI9BW2PU3' 'A3B8RCEI0FXFI6'\n",
      " 'A3DKGXWUEP1AI2'] (6100,) [5 4 5 5 5]\n"
     ]
    }
   ],
   "source": [
    "user_id, product_id, ratings = reviews_df[['user_id']].values.flatten(), reviews_df[['product_id']].values.flatten() , reviews_df[['rating']].values.flatten()\n",
    "\n",
    "print(user_id[:5], product_id.shape, ratings[:5])"
   ]
  },
  {
   "cell_type": "code",
   "execution_count": 29,
   "metadata": {},
   "outputs": [],
   "source": [
    "def create_ratings_graph(user_id, product_id, ratings):\n",
    "    batch = []\n",
    "    BATCH_SIZE = 100\n",
    "    batch_idx = 1\n",
    "    index = 0\n",
    "    edge_collection = product_rec_db[\"Ratings\"]\n",
    "    for idx in tqdm(range(ratings.shape[0])):\n",
    "        insert_doc = {}\n",
    "        insert_doc = {\n",
    "                        \"_from\":  (\"Users\" + \"/\" + str(user_mapping[user_id[idx]])),\n",
    "                        \"_to\":    (\"Product\" + \"/\" + str(product_mapping[product_id[idx]])),\n",
    "                        \"_rating\": float(ratings[idx])}\n",
    "\n",
    "        batch.append(insert_doc)\n",
    "        index += 1\n",
    "        last_record = (idx == (ratings.shape[0] - 1))\n",
    "\n",
    "        if index % BATCH_SIZE == 0:\n",
    "            #print(\"Inserting batch %d\" % (batch_idx))\n",
    "            batch_idx += 1\n",
    "            edge_collection.import_bulk(batch)\n",
    "            batch = []\n",
    "        if last_record and len(batch) > 0:\n",
    "            print(\"Inserting batch the last batch!\")\n",
    "            edge_collection.import_bulk(batch)    \n",
    "     "
   ]
  },
  {
   "cell_type": "code",
   "execution_count": 30,
   "metadata": {},
   "outputs": [
    {
     "name": "stderr",
     "output_type": "stream",
     "text": [
      "100%|██████████| 6100/6100 [00:03<00:00, 1931.50it/s]\n"
     ]
    }
   ],
   "source": [
    "create_ratings_graph(user_id, product_id, ratings)"
   ]
  },
  {
   "cell_type": "markdown",
   "metadata": {},
   "source": [
    "PyTorch O'Clock!"
   ]
  },
  {
   "cell_type": "code",
   "execution_count": 31,
   "metadata": {},
   "outputs": [],
   "source": [
    "users = product_rec_db.collection('Users')\n",
    "products = product_rec_db.collection('Product')\n",
    "ratings_graph = product_rec_db.collection('Ratings')"
   ]
  },
  {
   "cell_type": "code",
   "execution_count": 32,
   "metadata": {},
   "outputs": [
    {
     "data": {
      "text/plain": [
       "(5844, 941, 6100)"
      ]
     },
     "execution_count": 32,
     "metadata": {},
     "output_type": "execute_result"
    }
   ],
   "source": [
    "len(users), len(products), len(ratings_graph)\n"
   ]
  },
  {
   "cell_type": "code",
   "execution_count": 33,
   "metadata": {},
   "outputs": [
    {
     "name": "stdout",
     "output_type": "stream",
     "text": [
      "True\n",
      "cuda\n"
     ]
    }
   ],
   "source": [
    "print(torch.cuda.is_available())\n",
    "device = torch.device('cuda' if torch.cuda.is_available() else 'cpu')\n",
    "print(device)"
   ]
  },
  {
   "cell_type": "code",
   "execution_count": 34,
   "metadata": {},
   "outputs": [],
   "source": [
    "def create_pyg_edges(rating_docs):\n",
    "    src = []\n",
    "    dst = []\n",
    "    ratings = []\n",
    "    for doc in rating_docs:\n",
    "        _from = int(doc['_from'].split('/')[1])\n",
    "        _to   = int(doc['_to'].split('/')[1])\n",
    "\n",
    "        src.append(_from)\n",
    "        dst.append(_to)\n",
    "        ratings.append(int(doc['_rating']))\n",
    "\n",
    "    edge_index = torch.tensor([src, dst])\n",
    "    edge_label = torch.tensor(ratings)\n",
    "\n",
    "    return edge_index, edge_label"
   ]
  },
  {
   "cell_type": "code",
   "execution_count": 35,
   "metadata": {},
   "outputs": [],
   "source": [
    "edge_index, edge_label = create_pyg_edges(product_rec_db.aql.execute('FOR doc IN Ratings RETURN doc'))"
   ]
  },
  {
   "cell_type": "code",
   "execution_count": 36,
   "metadata": {},
   "outputs": [
    {
     "name": "stdout",
     "output_type": "stream",
     "text": [
      "torch.Size([2, 6100])\n",
      "torch.Size([6100])\n"
     ]
    }
   ],
   "source": [
    "print(edge_index.shape)\n",
    "print(edge_label.shape)"
   ]
  },
  {
   "cell_type": "code",
   "execution_count": 37,
   "metadata": {},
   "outputs": [
    {
     "name": "stdout",
     "output_type": "stream",
     "text": [
      "product_id\n",
      "B00002NCJC                      [Flies Begone, thirty bucks?]\n",
      "B00002Z754    [Great Product, WOW Make your own 'slickers' !]\n",
      "B000084DVR         [Premium Quality Dog Food!!!, Good stuff!]\n",
      "B000084E1U                                    [Cats love it!]\n",
      "B0000CERHH              [Delicious Tea, Love this tea!, WOW!]\n",
      "Name: review_title, dtype: object\n"
     ]
    }
   ],
   "source": [
    "import pandas as pd\n",
    "from sklearn.feature_extraction.text import TfidfVectorizer\n",
    "from sklearn.cluster import KMeans\n",
    "\n",
    "product_reviews = reviews_df.groupby('product_id')['review_title'].apply(list)\n",
    "print(product_reviews.head())\n",
    "\n",
    "vectorizer = TfidfVectorizer(stop_words='english') \n",
    "tfidf_matrix = vectorizer.fit_transform(product_reviews.apply(' '.join)) # Fit transform on combined reviews\n",
    "# Clustering \n",
    "num_clusters = 10\n",
    "kmeans = KMeans(n_clusters=num_clusters)\n",
    "kmeans.fit(tfidf_matrix)\n",
    "\n",
    "\n",
    "def cluster_product_reviews(product_reviews):\n",
    "    review_text = ' '.join(product_reviews)  # Combine reviews into a single text\n",
    "    tfidf_vector = vectorizer.transform([review_text])\n",
    "    cluster_label = kmeans.predict(tfidf_vector)[0]\n",
    "    return cluster_label\n",
    "\n",
    "\n",
    "\n"
   ]
  },
  {
   "cell_type": "code",
   "execution_count": 38,
   "metadata": {},
   "outputs": [
    {
     "name": "stdout",
     "output_type": "stream",
     "text": [
      "941\n",
      "941\n",
      "    product_id  cluster                                            reviews\n",
      "0   B00002NCJC        0                      [Flies Begone, thirty bucks?]\n",
      "1   B00002Z754        9    [Great Product, WOW Make your own 'slickers' !]\n",
      "2   B000084DVR        5         [Premium Quality Dog Food!!!, Good stuff!]\n",
      "3   B000084E1U        5                                    [Cats love it!]\n",
      "4   B0000CERHH        6              [Delicious Tea, Love this tea!, WOW!]\n",
      "5   B0000CGFV4        0             [Nice, Big Pieces & Big Almond Flavor]\n",
      "6   B0000D94SZ        1              [A Summer Treat Fat Free, Guilt Free]\n",
      "7   B0000DC5IY        9  [Little Flavor, Don't buy this product unless ...\n",
      "8   B0000E65W9        0  [A Staple in my house, A favorite quick meal s...\n",
      "9   B0000GGI00        2  [This is the stuff!, What everyone is saying h...\n",
      "10  B0000TU8EO        0                                             [YUM.]\n",
      "11  B0000VLH8S        0  [The Inexpensive Alternative to Gold Leaf!, no...\n",
      "12  B0000VMBDI        1  [Cake Topper, Wilton 13 pc golf set, Really cu...\n",
      "13  B0001217OA        0                                        [Fantastic]\n",
      "14  B00015BQB6        3                 [beans, yummy, Adzuki beans, Yum.]\n",
      "15  B00016UX0K        2  [I'm with the crowd. Best all purpose sauce ev...\n",
      "16  B0001E3LBU        0                                     [Great Jerky!]\n",
      "17  B0001FQVCK        0  [Chocolate Italian kisses - need I say more?, ...\n",
      "18  B0001KL1Y8        0                                      [A great buy]\n",
      "19  B0001N4886        6               [Wonderful tea!!, Smooth Rich Blend]\n"
     ]
    }
   ],
   "source": [
    "\n",
    "print(len(product_reviews))\n",
    "cluster_labels = kmeans.labels_\n",
    "print(len(cluster_labels))\n",
    "\n",
    "cluster_data = pd.DataFrame({\n",
    "    'product_id': product_reviews.index,  # Get the product IDs\n",
    "    'cluster': cluster_labels,\n",
    "    'reviews': product_reviews.values\n",
    "})\n",
    "print(cluster_data.head(20))"
   ]
  },
  {
   "cell_type": "code",
   "execution_count": 39,
   "metadata": {},
   "outputs": [],
   "source": [
    "def CategoryEncoder(product_docs , model_name=None):\n",
    "    product_category = list(product_docs['category'])\n",
    "    print(\"sample categories are\", product_category[:5])\n",
    "    product_subcategory = list(product_docs['subcategory'])\n",
    "    product_concategories = [cat + subcat for cat, subcat in zip(product_category, product_subcategory)]\n",
    "    print(\"sample concat: \", product_concategories[:5])\n",
    "    model = SentenceTransformer(model_name, device=device)\n",
    "    product_category_embeddings = model.encode(product_concategories, show_progress_bar=True,\n",
    "                              convert_to_tensor=True, device=device)\n",
    "    print(\"Shape of product_id_embeddings before returning:\", product_category_embeddings.shape)\n",
    "\n",
    "    return product_category_embeddings "
   ]
  },
  {
   "cell_type": "code",
   "execution_count": 40,
   "metadata": {},
   "outputs": [],
   "source": [
    "import torch\n",
    "import pandas as pd\n",
    "\n",
    "def ClustersEncoder(product_docs, cluster_labels): \n",
    "    \n",
    "    num_clusters = len(set(cluster_labels))   \n",
    "    x = torch.zeros(len(product_docs), num_clusters) \n",
    "\n",
    "    for i, doc in enumerate(product_docs):  \n",
    "        cluster_label = cluster_labels[i]  # Get the corresponding label\n",
    "        x[i, cluster_label] = 1 # One-hot encoding for the cluster label\n",
    "\n",
    "    return x.to(device) \n"
   ]
  },
  {
   "cell_type": "code",
   "execution_count": 41,
   "metadata": {},
   "outputs": [
    {
     "name": "stdout",
     "output_type": "stream",
     "text": [
      "tensor([[1., 0., 0.,  ..., 0., 0., 0.],\n",
      "        [0., 0., 0.,  ..., 0., 0., 1.],\n",
      "        [0., 0., 0.,  ..., 0., 0., 0.],\n",
      "        ...,\n",
      "        [0., 0., 0.,  ..., 0., 0., 0.],\n",
      "        [0., 0., 0.,  ..., 0., 0., 0.],\n",
      "        [0., 0., 0.,  ..., 1., 0., 0.]], device='cuda:0')\n",
      "There are 941 products across 10 categories: torch.Size([941, 10])\n"
     ]
    }
   ],
   "source": [
    "#TODO plotly express to view clusters \n",
    "#reviews_df['cluster'] = reviews_df['cluster'].fillna(-1).astype(int) # Fill NaNs with -1 and convert to int\n",
    "#cluster_assignments = reviews_df['cluster'] \n",
    "cluster_emb = ClustersEncoder(products, cluster_labels) \n",
    "print(cluster_emb)\n",
    "print(\"There are 941 products across 10 categories:\", cluster_emb.shape)"
   ]
  },
  {
   "cell_type": "code",
   "execution_count": 42,
   "metadata": {},
   "outputs": [],
   "source": [
    "def concatenate_embeddings(category_emb, cluster_emb):\n",
    "    assert category_emb.shape[0] == cluster_emb.shape[0], \"Number of samples in both embeddings must match.\" \n",
    "    return torch.cat((category_emb, cluster_emb), dim=1)"
   ]
  },
  {
   "cell_type": "code",
   "execution_count": 43,
   "metadata": {},
   "outputs": [
    {
     "name": "stdout",
     "output_type": "stream",
     "text": [
      "      product_id         user_id                     username  rating  \\\n",
      "0     B00002NCJC  A13RRPGE79XFFH                     reader48       5   \n",
      "1     B00002NCJC  A196AJHU9EASJN                 Alex Chaffee       4   \n",
      "2     B00002Z754  A29Z5PI9BW2PU3                       Robbie       5   \n",
      "3     B00002Z754  A3B8RCEI0FXFI6                    B G Chase       5   \n",
      "4     B000084DVR  A3DKGXWUEP1AI2  Glenna E. Bauer \"Puppy Mum\"       5   \n",
      "...          ...             ...                          ...     ...   \n",
      "6095  B009HINRX8   ADDBLG0CFY9AI                       S.A.D.       5   \n",
      "6096  B009HINRX8   ATNQNZEHWMR9U                    Kokopelli       3   \n",
      "6097  B009HINRX8  A2CAZG1CQ8BQI5          Patricia J. Nohalty       5   \n",
      "6098  B009UOFU20   AJVB004EB0MVK            D. Christofferson       1   \n",
      "6099  B009WSNWC4   AMP7K1O84DH1T                         ESTY       5   \n",
      "\n",
      "                                           review_title  \\\n",
      "0                                          Flies Begone   \n",
      "1                                         thirty bucks?   \n",
      "2                                         Great Product   \n",
      "3                        WOW Make your own 'slickers' !   \n",
      "4                           Premium Quality Dog Food!!!   \n",
      "...                                                 ...   \n",
      "6095                              Best of the Tassimo's   \n",
      "6096                Note: Rating both coffee and seller   \n",
      "6097                                   Kona for Tassimo   \n",
      "6098  weak coffee not good for a premium product and...   \n",
      "6099                                          DELICIOUS   \n",
      "\n",
      "                                         review_content      category  \\\n",
      "0     We have used the Victor fly bait for 3 seasons...           Pet   \n",
      "1     Why is this $[...] when the same product is av...          Home   \n",
      "2     This was a really good idea and the final prod...        Crafts   \n",
      "3     I just received my shipment and could hardly w...        Office   \n",
      "4     We have been using this food for about 6 month...           Pet   \n",
      "...                                                 ...           ...   \n",
      "6095  We've tried many Tassimo flavors.  This is by ...          Home   \n",
      "6096  This coffee is good but, for me, it's nothing ...          Food   \n",
      "6097  Of all the coffee's available for Tassimo this...   Electronics   \n",
      "6098  This coffee supposedly is premium, it tastes w...          Home   \n",
      "6099  Purchased this product at a local store in NY ...          Food   \n",
      "\n",
      "      subcategory  \n",
      "0          Supply  \n",
      "1            Pest  \n",
      "2          Decals  \n",
      "3        Supplies  \n",
      "4            Food  \n",
      "...           ...  \n",
      "6095        Goods  \n",
      "6096     Beverage  \n",
      "6097   Homebrewed  \n",
      "6098     Supplies  \n",
      "6099        Snack  \n",
      "\n",
      "[6100 rows x 8 columns]\n"
     ]
    }
   ],
   "source": [
    "print(reviews_df)"
   ]
  },
  {
   "cell_type": "code",
   "execution_count": 44,
   "metadata": {},
   "outputs": [
    {
     "name": "stdout",
     "output_type": "stream",
     "text": [
      "cluster embeddings shape is:  torch.Size([941, 10]) \n",
      "\n",
      "sample categories are [' Pet', ' Crafts', ' Pet', ' Pet', ' Home']\n",
      "sample concat:  [' Pet Supply', ' Crafts Decals', ' Pet Food', ' Pet Food', ' Home Goods']\n"
     ]
    },
    {
     "data": {
      "application/vnd.jupyter.widget-view+json": {
       "model_id": "aac5458610c94ec5adcd9deccf73ce92",
       "version_major": 2,
       "version_minor": 0
      },
      "text/plain": [
       "Batches:   0%|          | 0/30 [00:00<?, ?it/s]"
      ]
     },
     "metadata": {},
     "output_type": "display_data"
    },
    {
     "name": "stdout",
     "output_type": "stream",
     "text": [
      "Shape of product_id_embeddings before returning: torch.Size([941, 384])\n",
      "Category Embeddings shape: torch.Size([941, 384])\n"
     ]
    }
   ],
   "source": [
    "import torch\n",
    "import nbformat\n",
    "from sklearn.manifold import TSNE\n",
    "#goes through database and  passes products into encoder, which gives us product embeddings\n",
    "unique_products_df = reviews_df.drop_duplicates('product_id')\n",
    "cluster_emb = ClustersEncoder(products, cluster_labels) \n",
    "print(\"cluster embeddings shape is: \", cluster_emb.shape, \"\\n\")\n",
    "category_emb = CategoryEncoder(unique_products_df, model_name='all-MiniLM-L6-v2')\n",
    "print('Category Embeddings shape:', category_emb.shape)\n"
   ]
  },
  {
   "cell_type": "code",
   "execution_count": 45,
   "metadata": {},
   "outputs": [
    {
     "name": "stdout",
     "output_type": "stream",
     "text": [
      "torch.Size([941, 394])\n"
     ]
    }
   ],
   "source": [
    "concat_emb = concatenate_embeddings(category_emb, cluster_emb)\n",
    "print(concat_emb.shape)\n",
    "torch.save(concat_emb, \"concatenated_embeddings_product_cluster.pt\")\n",
    "product_emb = concat_emb #our final product embeddings are the concat category + cluster embeddings."
   ]
  },
  {
   "cell_type": "code",
   "execution_count": 46,
   "metadata": {},
   "outputs": [],
   "source": [
    "torch.save(product_emb, \"product_embeddings.pt\")"
   ]
  },
  {
   "cell_type": "markdown",
   "metadata": {},
   "source": [
    "Hetero Graph"
   ]
  },
  {
   "cell_type": "code",
   "execution_count": 47,
   "metadata": {},
   "outputs": [],
   "source": [
    "data = HeteroData()\n",
    "#data = torch.load(\"product_data_PYG.pt\")\n"
   ]
  },
  {
   "cell_type": "code",
   "execution_count": 48,
   "metadata": {},
   "outputs": [
    {
     "name": "stdout",
     "output_type": "stream",
     "text": [
      "HeteroData()\n"
     ]
    }
   ],
   "source": [
    "print(data)"
   ]
  },
  {
   "cell_type": "code",
   "execution_count": null,
   "metadata": {},
   "outputs": [],
   "source": [
    "def get_product_indices_by_user(df, product_mapping):\n",
    "    def map_product_ids(product_id_list):\n",
    "        return [product_mapping.get(product_id, 0) for product_id in product_id_list]  # 0 as the default for unknown IDs\n",
    "\n",
    "    user_product_indices = df.groupby(['user_id'])['product_id'].apply(map_product_ids)\n",
    "    return user_product_indices\n",
    "\n",
    "user_x_prod = get_product_indices_by_user(reviews_df, product_mapping)\n",
    "print(user_x_prod)"
   ]
  },
  {
   "cell_type": "code",
   "execution_count": 49,
   "metadata": {},
   "outputs": [
    {
     "name": "stdout",
     "output_type": "stream",
     "text": [
      "5844\n",
      "torch.Size([941, 394])\n"
     ]
    }
   ],
   "source": [
    "print(reviews_df['user_id'].nunique())\n",
    "print(product_emb.shape)"
   ]
  },
  {
   "cell_type": "code",
   "execution_count": 50,
   "metadata": {},
   "outputs": [],
   "source": [
    "def compute_user_features(reviews_df, product_emb, model_name = None):\n",
    "    #Average past product embeddings\n",
    "    # add both user ID (user name?) and user embeddings (from user data) to the user node features\n",
    "\n",
    "    user_feat = []\n",
    "    for user_id in reviews_df['user_id'].unique():\n",
    "        user_df = reviews_df.loc[reviews_df['user_id'] == user_id]\n",
    "\n",
    "        positive_reviews = \" \".join(user_df[user_df['rating'] >= 3]['review_content'])\n",
    "        user_feat.append(f\"{user_df['username'].iloc[0]} {positive_reviews}\" if positive_reviews else \" \")\n",
    "\n",
    "        # past_product_indices =  user_x_prod.loc[(rev_user_mapping.get(user_id))]\n",
    "        # if len(past_product_indices) > 0: \n",
    "        #     user_feat.append(torch.mean(product_emb[past_product_indices], dim=0)) \n",
    "        # else:\n",
    "        #     user_feat.append(torch.zeros_like(concat_emb[0])) # Default if no past interactions\n",
    "    \n",
    "    model = SentenceTransformer(model_name, device=device)\n",
    "    user_embeddings = model.encode(user_feat, show_progress_bar=True,\n",
    "                              convert_to_tensor=True, device=device)\n",
    "    \n",
    "    print(\"Shape of user_embeddings before returning:\", user_embeddings.shape)\n",
    "    \n",
    "    return user_embeddings"
   ]
  },
  {
   "cell_type": "code",
   "execution_count": 55,
   "metadata": {},
   "outputs": [
    {
     "name": "stdout",
     "output_type": "stream",
     "text": [
      "HeteroData(\n",
      "  user={ x=[5844, 384] },\n",
      "  products={ x=[941, 394] },\n",
      "  (user, ratings, products)={\n",
      "    edge_index=[2, 6100],\n",
      "    edge_label=[6100],\n",
      "  }\n",
      ")\n"
     ]
    }
   ],
   "source": [
    "print(data)"
   ]
  },
  {
   "cell_type": "code",
   "execution_count": 52,
   "metadata": {},
   "outputs": [
    {
     "data": {
      "application/vnd.jupyter.widget-view+json": {
       "model_id": "fbf24d5ee2e44f259de0b04068dc75c1",
       "version_major": 2,
       "version_minor": 0
      },
      "text/plain": [
       "Batches:   0%|          | 0/183 [00:00<?, ?it/s]"
      ]
     },
     "metadata": {},
     "output_type": "display_data"
    },
    {
     "name": "stdout",
     "output_type": "stream",
     "text": [
      "Shape of user_embeddings before returning: torch.Size([5844, 384])\n"
     ]
    }
   ],
   "source": [
    "#TODO plot graph \n",
    "data['user'].x = compute_user_features(reviews_df, product_emb, model_name='all-MiniLM-L6-v2').to(device)\n",
    "data['products'].x = product_emb\n",
    "data['user', 'ratings', 'products'].edge_index = edge_index\n",
    "data['user', 'ratings', 'products'].edge_label = edge_label\n",
    "#torch.save(data, 'product_data_PYG.pt')"
   ]
  },
  {
   "cell_type": "code",
   "execution_count": 56,
   "metadata": {},
   "outputs": [
    {
     "name": "stdout",
     "output_type": "stream",
     "text": [
      "HeteroData(\n",
      "  user={ x=[5844, 384] },\n",
      "  products={ x=[941, 394] },\n",
      "  (user, ratings, products)={\n",
      "    edge_index=[2, 6100],\n",
      "    edge_label=[6100],\n",
      "  }\n",
      ")\n"
     ]
    }
   ],
   "source": [
    "print(data)"
   ]
  },
  {
   "cell_type": "code",
   "execution_count": 54,
   "metadata": {},
   "outputs": [
    {
     "ename": "KeyboardInterrupt",
     "evalue": "",
     "output_type": "error",
     "traceback": [
      "\u001b[1;31m---------------------------------------------------------------------------\u001b[0m",
      "\u001b[1;31mKeyboardInterrupt\u001b[0m                         Traceback (most recent call last)",
      "Cell \u001b[1;32mIn[54], line 1\u001b[0m\n\u001b[1;32m----> 1\u001b[0m data[\u001b[38;5;124m'\u001b[39m\u001b[38;5;124muser\u001b[39m\u001b[38;5;124m'\u001b[39m]\u001b[38;5;241m.\u001b[39mx \u001b[38;5;241m=\u001b[39m \u001b[43mcompute_user_features\u001b[49m\u001b[43m(\u001b[49m\u001b[43mreviews_df\u001b[49m\u001b[43m,\u001b[49m\u001b[43m \u001b[49m\u001b[43mproduct_emb\u001b[49m\u001b[43m,\u001b[49m\u001b[43mmodel_name\u001b[49m\u001b[38;5;241;43m=\u001b[39;49m\u001b[38;5;124;43m'\u001b[39;49m\u001b[38;5;124;43mall-MiniLM-L6-v2\u001b[39;49m\u001b[38;5;124;43m'\u001b[39;49m\u001b[43m)\u001b[49m\u001b[38;5;241m.\u001b[39mto(device)\n\u001b[0;32m      2\u001b[0m \u001b[38;5;28;01mdel\u001b[39;00m data[\u001b[38;5;124m'\u001b[39m\u001b[38;5;124muser\u001b[39m\u001b[38;5;124m'\u001b[39m]\u001b[38;5;241m.\u001b[39mnum_nodes\n",
      "Cell \u001b[1;32mIn[50], line 7\u001b[0m, in \u001b[0;36mcompute_user_features\u001b[1;34m(reviews_df, product_emb, model_name)\u001b[0m\n\u001b[0;32m      5\u001b[0m user_feat \u001b[38;5;241m=\u001b[39m []\n\u001b[0;32m      6\u001b[0m \u001b[38;5;28;01mfor\u001b[39;00m user_id \u001b[38;5;129;01min\u001b[39;00m reviews_df[\u001b[38;5;124m'\u001b[39m\u001b[38;5;124muser_id\u001b[39m\u001b[38;5;124m'\u001b[39m]\u001b[38;5;241m.\u001b[39munique():\n\u001b[1;32m----> 7\u001b[0m     user_df \u001b[38;5;241m=\u001b[39m \u001b[43mreviews_df\u001b[49m\u001b[38;5;241;43m.\u001b[39;49m\u001b[43mloc\u001b[49m\u001b[43m[\u001b[49m\u001b[43mreviews_df\u001b[49m\u001b[43m[\u001b[49m\u001b[38;5;124;43m'\u001b[39;49m\u001b[38;5;124;43muser_id\u001b[39;49m\u001b[38;5;124;43m'\u001b[39;49m\u001b[43m]\u001b[49m\u001b[43m \u001b[49m\u001b[38;5;241;43m==\u001b[39;49m\u001b[43m \u001b[49m\u001b[43muser_id\u001b[49m\u001b[43m]\u001b[49m\n\u001b[0;32m      9\u001b[0m     positive_reviews \u001b[38;5;241m=\u001b[39m \u001b[38;5;124m\"\u001b[39m\u001b[38;5;124m \u001b[39m\u001b[38;5;124m\"\u001b[39m\u001b[38;5;241m.\u001b[39mjoin(user_df[user_df[\u001b[38;5;124m'\u001b[39m\u001b[38;5;124mrating\u001b[39m\u001b[38;5;124m'\u001b[39m] \u001b[38;5;241m>\u001b[39m\u001b[38;5;241m=\u001b[39m \u001b[38;5;241m3\u001b[39m][\u001b[38;5;124m'\u001b[39m\u001b[38;5;124mreview_content\u001b[39m\u001b[38;5;124m'\u001b[39m])\n\u001b[0;32m     10\u001b[0m     user_feat\u001b[38;5;241m.\u001b[39mappend(\u001b[38;5;124mf\u001b[39m\u001b[38;5;124m\"\u001b[39m\u001b[38;5;132;01m{\u001b[39;00muser_df[\u001b[38;5;124m'\u001b[39m\u001b[38;5;124musername\u001b[39m\u001b[38;5;124m'\u001b[39m]\u001b[38;5;241m.\u001b[39miloc[\u001b[38;5;241m0\u001b[39m]\u001b[38;5;132;01m}\u001b[39;00m\u001b[38;5;124m \u001b[39m\u001b[38;5;132;01m{\u001b[39;00mpositive_reviews\u001b[38;5;132;01m}\u001b[39;00m\u001b[38;5;124m\"\u001b[39m \u001b[38;5;28;01mif\u001b[39;00m positive_reviews \u001b[38;5;28;01melse\u001b[39;00m \u001b[38;5;124m\"\u001b[39m\u001b[38;5;124m \u001b[39m\u001b[38;5;124m\"\u001b[39m)\n",
      "File \u001b[1;32mc:\\Users\\aj\\Code\\ArangoDB_project\\.venv\\Lib\\site-packages\\pandas\\core\\indexing.py:1191\u001b[0m, in \u001b[0;36m_LocationIndexer.__getitem__\u001b[1;34m(self, key)\u001b[0m\n\u001b[0;32m   1189\u001b[0m maybe_callable \u001b[38;5;241m=\u001b[39m com\u001b[38;5;241m.\u001b[39mapply_if_callable(key, \u001b[38;5;28mself\u001b[39m\u001b[38;5;241m.\u001b[39mobj)\n\u001b[0;32m   1190\u001b[0m maybe_callable \u001b[38;5;241m=\u001b[39m \u001b[38;5;28mself\u001b[39m\u001b[38;5;241m.\u001b[39m_check_deprecated_callable_usage(key, maybe_callable)\n\u001b[1;32m-> 1191\u001b[0m \u001b[38;5;28;01mreturn\u001b[39;00m \u001b[38;5;28;43mself\u001b[39;49m\u001b[38;5;241;43m.\u001b[39;49m\u001b[43m_getitem_axis\u001b[49m\u001b[43m(\u001b[49m\u001b[43mmaybe_callable\u001b[49m\u001b[43m,\u001b[49m\u001b[43m \u001b[49m\u001b[43maxis\u001b[49m\u001b[38;5;241;43m=\u001b[39;49m\u001b[43maxis\u001b[49m\u001b[43m)\u001b[49m\n",
      "File \u001b[1;32mc:\\Users\\aj\\Code\\ArangoDB_project\\.venv\\Lib\\site-packages\\pandas\\core\\indexing.py:1413\u001b[0m, in \u001b[0;36m_LocIndexer._getitem_axis\u001b[1;34m(self, key, axis)\u001b[0m\n\u001b[0;32m   1411\u001b[0m     \u001b[38;5;28;01mreturn\u001b[39;00m \u001b[38;5;28mself\u001b[39m\u001b[38;5;241m.\u001b[39m_get_slice_axis(key, axis\u001b[38;5;241m=\u001b[39maxis)\n\u001b[0;32m   1412\u001b[0m \u001b[38;5;28;01melif\u001b[39;00m com\u001b[38;5;241m.\u001b[39mis_bool_indexer(key):\n\u001b[1;32m-> 1413\u001b[0m     \u001b[38;5;28;01mreturn\u001b[39;00m \u001b[38;5;28;43mself\u001b[39;49m\u001b[38;5;241;43m.\u001b[39;49m\u001b[43m_getbool_axis\u001b[49m\u001b[43m(\u001b[49m\u001b[43mkey\u001b[49m\u001b[43m,\u001b[49m\u001b[43m \u001b[49m\u001b[43maxis\u001b[49m\u001b[38;5;241;43m=\u001b[39;49m\u001b[43maxis\u001b[49m\u001b[43m)\u001b[49m\n\u001b[0;32m   1414\u001b[0m \u001b[38;5;28;01melif\u001b[39;00m is_list_like_indexer(key):\n\u001b[0;32m   1415\u001b[0m     \u001b[38;5;66;03m# an iterable multi-selection\u001b[39;00m\n\u001b[0;32m   1416\u001b[0m     \u001b[38;5;28;01mif\u001b[39;00m \u001b[38;5;129;01mnot\u001b[39;00m (\u001b[38;5;28misinstance\u001b[39m(key, \u001b[38;5;28mtuple\u001b[39m) \u001b[38;5;129;01mand\u001b[39;00m \u001b[38;5;28misinstance\u001b[39m(labels, MultiIndex)):\n",
      "File \u001b[1;32mc:\\Users\\aj\\Code\\ArangoDB_project\\.venv\\Lib\\site-packages\\pandas\\core\\indexing.py:1210\u001b[0m, in \u001b[0;36m_LocationIndexer._getbool_axis\u001b[1;34m(self, key, axis)\u001b[0m\n\u001b[0;32m   1208\u001b[0m labels \u001b[38;5;241m=\u001b[39m \u001b[38;5;28mself\u001b[39m\u001b[38;5;241m.\u001b[39mobj\u001b[38;5;241m.\u001b[39m_get_axis(axis)\n\u001b[0;32m   1209\u001b[0m key \u001b[38;5;241m=\u001b[39m check_bool_indexer(labels, key)\n\u001b[1;32m-> 1210\u001b[0m inds \u001b[38;5;241m=\u001b[39m \u001b[43mkey\u001b[49m\u001b[38;5;241;43m.\u001b[39;49m\u001b[43mnonzero\u001b[49m\u001b[43m(\u001b[49m\u001b[43m)\u001b[49m[\u001b[38;5;241m0\u001b[39m]\n\u001b[0;32m   1211\u001b[0m \u001b[38;5;28;01mreturn\u001b[39;00m \u001b[38;5;28mself\u001b[39m\u001b[38;5;241m.\u001b[39mobj\u001b[38;5;241m.\u001b[39m_take_with_is_copy(inds, axis\u001b[38;5;241m=\u001b[39maxis)\n",
      "\u001b[1;31mKeyboardInterrupt\u001b[0m: "
     ]
    }
   ],
   "source": [
    "data['user'].x = compute_user_features(reviews_df, product_emb,model_name='all-MiniLM-L6-v2').to(device)\n",
    "del data['user'].num_nodes\n"
   ]
  },
  {
   "cell_type": "code",
   "execution_count": 57,
   "metadata": {},
   "outputs": [],
   "source": [
    "# Add a reverse ('product', 'rev_ratings', 'user') relation for message passing.\n",
    "data = ToUndirected()(data)\n",
    "del data['products', 'rev_ratings', 'user'].edge_label  # Remove \"reverse\" label."
   ]
  },
  {
   "cell_type": "code",
   "execution_count": 58,
   "metadata": {},
   "outputs": [
    {
     "name": "stdout",
     "output_type": "stream",
     "text": [
      "HeteroData(\n",
      "  user={ x=[5844, 384] },\n",
      "  products={ x=[941, 394] },\n",
      "  (user, ratings, products)={\n",
      "    edge_index=[2, 6100],\n",
      "    edge_label=[6100],\n",
      "  },\n",
      "  (products, rev_ratings, user)={ edge_index=[2, 6100] }\n",
      ")\n"
     ]
    },
    {
     "data": {
      "text/plain": [
       "(['user', 'products'],\n",
       " [('user', 'ratings', 'products'), ('products', 'rev_ratings', 'user')])"
      ]
     },
     "execution_count": 58,
     "metadata": {},
     "output_type": "execute_result"
    }
   ],
   "source": [
    "data = data.to(device)\n",
    "print(data)\n",
    "data.metadata()"
   ]
  },
  {
   "cell_type": "code",
   "execution_count": 59,
   "metadata": {},
   "outputs": [],
   "source": [
    "# Perform a link-level split into training, validation, and test edges.\n",
    "train_data, val_data, test_data = T.RandomLinkSplit(\n",
    "    num_val=0.1,\n",
    "    num_test=0.1,\n",
    "    neg_sampling_ratio=0.0,\n",
    "    edge_types=[('user', 'ratings', 'products')],\n",
    "    rev_edge_types=[('products', 'rev_ratings', 'user')],\n",
    ")(data)"
   ]
  },
  {
   "cell_type": "code",
   "execution_count": 60,
   "metadata": {},
   "outputs": [
    {
     "name": "stdout",
     "output_type": "stream",
     "text": [
      "Train data: HeteroData(\n",
      "  user={ x=[5844, 384] },\n",
      "  products={ x=[941, 394] },\n",
      "  (user, ratings, products)={\n",
      "    edge_index=[2, 4880],\n",
      "    edge_label=[4880],\n",
      "    edge_label_index=[2, 4880],\n",
      "  },\n",
      "  (products, rev_ratings, user)={ edge_index=[2, 4880] }\n",
      ")\n",
      "Val data: HeteroData(\n",
      "  user={ x=[5844, 384] },\n",
      "  products={ x=[941, 394] },\n",
      "  (user, ratings, products)={\n",
      "    edge_index=[2, 4880],\n",
      "    edge_label=[610],\n",
      "    edge_label_index=[2, 610],\n",
      "  },\n",
      "  (products, rev_ratings, user)={ edge_index=[2, 4880] }\n",
      ")\n",
      "Test data HeteroData(\n",
      "  user={ x=[5844, 384] },\n",
      "  products={ x=[941, 394] },\n",
      "  (user, ratings, products)={\n",
      "    edge_index=[2, 5490],\n",
      "    edge_label=[610],\n",
      "    edge_label_index=[2, 610],\n",
      "  },\n",
      "  (products, rev_ratings, user)={ edge_index=[2, 5490] }\n",
      ")\n"
     ]
    }
   ],
   "source": [
    "print('Train data:', train_data)\n",
    "print('Val data:', val_data)\n",
    "print('Test data', test_data)\n",
    "torch.save(train_data, 'train_data.pt')\n",
    "torch.save(val_data, 'val_data.pt')\n",
    "torch.save(test_data, 'test_data.pt')"
   ]
  },
  {
   "cell_type": "code",
   "execution_count": 61,
   "metadata": {},
   "outputs": [
    {
     "data": {
      "text/plain": [
       "tensor([[ 356, 2786, 2035,  ..., 5181, 4394, 2332],\n",
       "        [  83,  395,  295,  ...,  812,  659,  337]], device='cuda:0')"
      ]
     },
     "execution_count": 61,
     "metadata": {},
     "output_type": "execute_result"
    }
   ],
   "source": [
    "# Slicing edge label to get the corresponding split (hence this gives train split)\n",
    "train_data['user', 'products'].edge_label_index"
   ]
  },
  {
   "cell_type": "code",
   "execution_count": 62,
   "metadata": {},
   "outputs": [
    {
     "data": {
      "text/plain": [
       "{'user': tensor([[-3.9595e-02, -1.8005e-02, -1.6868e-02,  ...,  9.5934e-05,\n",
       "          -1.0221e-01,  6.9101e-02],\n",
       "         [-6.0112e-02,  4.8578e-02,  3.2484e-02,  ..., -3.2740e-02,\n",
       "          -4.7089e-02,  3.4276e-03],\n",
       "         [-9.0954e-03,  8.7616e-02,  2.7719e-02,  ...,  2.1840e-02,\n",
       "          -7.2182e-02,  5.8295e-02],\n",
       "         ...,\n",
       "         [-2.4396e-02, -4.0922e-02,  2.6919e-03,  ..., -6.7094e-03,\n",
       "           9.1775e-03, -1.8611e-02],\n",
       "         [-1.1884e-01,  4.8299e-02, -2.5480e-03,  ...,  1.2641e-01,\n",
       "           4.6549e-02, -1.5717e-02],\n",
       "         [ 1.5501e-02, -1.1461e-02, -4.3353e-04,  ..., -2.2426e-03,\n",
       "          -3.6879e-02,  2.7369e-02]], device='cuda:0'),\n",
       " 'products': tensor([[-1.7683e-02,  1.1559e-02,  3.8091e-02,  ...,  0.0000e+00,\n",
       "           0.0000e+00,  0.0000e+00],\n",
       "         [-7.5590e-02,  6.2818e-02, -9.5776e-04,  ...,  0.0000e+00,\n",
       "           0.0000e+00,  1.0000e+00],\n",
       "         [-4.7318e-03,  2.1906e-02,  6.5977e-02,  ...,  0.0000e+00,\n",
       "           0.0000e+00,  0.0000e+00],\n",
       "         ...,\n",
       "         [-7.7193e-03, -1.0832e-02,  3.2256e-02,  ...,  0.0000e+00,\n",
       "           0.0000e+00,  0.0000e+00],\n",
       "         [-2.2587e-02,  2.9910e-02,  1.9334e-02,  ...,  0.0000e+00,\n",
       "           0.0000e+00,  0.0000e+00],\n",
       "         [-4.6875e-02,  2.9643e-02, -5.1384e-03,  ...,  1.0000e+00,\n",
       "           0.0000e+00,  0.0000e+00]], device='cuda:0')}"
      ]
     },
     "execution_count": 62,
     "metadata": {},
     "output_type": "execute_result"
    }
   ],
   "source": [
    "data.x_dict\n",
    "#print((train_data.edge_index_dict))"
   ]
  },
  {
   "cell_type": "code",
   "execution_count": 63,
   "metadata": {},
   "outputs": [
    {
     "data": {
      "text/plain": [
       "(torch.Size([5844, 384]), torch.Size([941, 394]))"
      ]
     },
     "execution_count": 63,
     "metadata": {},
     "output_type": "execute_result"
    }
   ],
   "source": [
    "data.x_dict['user'].shape, data.x_dict['products'].shape"
   ]
  },
  {
   "cell_type": "code",
   "execution_count": 64,
   "metadata": {},
   "outputs": [
    {
     "data": {
      "text/plain": [
       "{'_global_store': {},\n",
       " 'user': {'x': tensor([[-3.9595e-02, -1.8005e-02, -1.6868e-02,  ...,  9.5934e-05,\n",
       "           -1.0221e-01,  6.9101e-02],\n",
       "          [-6.0112e-02,  4.8578e-02,  3.2484e-02,  ..., -3.2740e-02,\n",
       "           -4.7089e-02,  3.4276e-03],\n",
       "          [-9.0954e-03,  8.7616e-02,  2.7719e-02,  ...,  2.1840e-02,\n",
       "           -7.2182e-02,  5.8295e-02],\n",
       "          ...,\n",
       "          [-2.4396e-02, -4.0922e-02,  2.6919e-03,  ..., -6.7094e-03,\n",
       "            9.1775e-03, -1.8611e-02],\n",
       "          [-1.1884e-01,  4.8299e-02, -2.5480e-03,  ...,  1.2641e-01,\n",
       "            4.6549e-02, -1.5717e-02],\n",
       "          [ 1.5501e-02, -1.1461e-02, -4.3353e-04,  ..., -2.2426e-03,\n",
       "           -3.6879e-02,  2.7369e-02]], device='cuda:0')},\n",
       " 'products': {'x': tensor([[-1.7683e-02,  1.1559e-02,  3.8091e-02,  ...,  0.0000e+00,\n",
       "            0.0000e+00,  0.0000e+00],\n",
       "          [-7.5590e-02,  6.2818e-02, -9.5776e-04,  ...,  0.0000e+00,\n",
       "            0.0000e+00,  1.0000e+00],\n",
       "          [-4.7318e-03,  2.1906e-02,  6.5977e-02,  ...,  0.0000e+00,\n",
       "            0.0000e+00,  0.0000e+00],\n",
       "          ...,\n",
       "          [-7.7193e-03, -1.0832e-02,  3.2256e-02,  ...,  0.0000e+00,\n",
       "            0.0000e+00,  0.0000e+00],\n",
       "          [-2.2587e-02,  2.9910e-02,  1.9334e-02,  ...,  0.0000e+00,\n",
       "            0.0000e+00,  0.0000e+00],\n",
       "          [-4.6875e-02,  2.9643e-02, -5.1384e-03,  ...,  1.0000e+00,\n",
       "            0.0000e+00,  0.0000e+00]], device='cuda:0')},\n",
       " ('user',\n",
       "  'ratings',\n",
       "  'products'): {'edge_index': tensor([[   0,    1,    2,  ..., 5841, 5842, 5843],\n",
       "          [   0,    0,    1,  ...,  938,  939,  940]], device='cuda:0'), 'edge_label': tensor([5, 4, 5,  ..., 5, 1, 5], device='cuda:0')},\n",
       " ('products',\n",
       "  'rev_ratings',\n",
       "  'user'): {'edge_index': tensor([[   0,    0,    1,  ...,  938,  939,  940],\n",
       "          [   0,    1,    2,  ..., 5841, 5842, 5843]], device='cuda:0')}}"
      ]
     },
     "execution_count": 64,
     "metadata": {},
     "output_type": "execute_result"
    }
   ],
   "source": [
    "data.to_dict()"
   ]
  },
  {
   "cell_type": "code",
   "execution_count": 65,
   "metadata": {},
   "outputs": [
    {
     "data": {
      "text/plain": [
       "{('user',\n",
       "  'ratings',\n",
       "  'products'): tensor([[   0,    1,    2,  ..., 5841, 5842, 5843],\n",
       "         [   0,    0,    1,  ...,  938,  939,  940]], device='cuda:0'),\n",
       " ('products',\n",
       "  'rev_ratings',\n",
       "  'user'): tensor([[   0,    0,    1,  ...,  938,  939,  940],\n",
       "         [   0,    1,    2,  ..., 5841, 5842, 5843]], device='cuda:0')}"
      ]
     },
     "execution_count": 65,
     "metadata": {},
     "output_type": "execute_result"
    }
   ],
   "source": [
    "data.edge_index_dict"
   ]
  },
  {
   "cell_type": "code",
   "execution_count": 66,
   "metadata": {},
   "outputs": [
    {
     "data": {
      "text/plain": [
       "{('user',\n",
       "  'ratings',\n",
       "  'products'): tensor([5, 4, 5,  ..., 5, 1, 5], device='cuda:0')}"
      ]
     },
     "execution_count": 66,
     "metadata": {},
     "output_type": "execute_result"
    }
   ],
   "source": [
    "data.edge_label_dict"
   ]
  },
  {
   "cell_type": "code",
   "execution_count": 67,
   "metadata": {},
   "outputs": [
    {
     "name": "stdout",
     "output_type": "stream",
     "text": [
      "Different types of nodes in graph: ['user', 'products']\n",
      "Different types of edges in graph: [('user', 'ratings', 'products'), ('products', 'rev_ratings', 'user')]\n"
     ]
    }
   ],
   "source": [
    "node_types, edge_types = data.metadata()\n",
    "print('Different types of nodes in graph:',node_types)\n",
    "print('Different types of edges in graph:',edge_types)\n",
    "torch.save(data, 'product_data_PYG.pt')"
   ]
  },
  {
   "cell_type": "code",
   "execution_count": 68,
   "metadata": {},
   "outputs": [],
   "source": [
    "# We have an unbalanced dataset with many labels for rating 3 and 4, and very\n",
    "# few for 0 and 1. Therefore we use a weighted MSE loss.\n",
    "\n",
    "#May want to play with varieties\n",
    "weight = torch.bincount(train_data['user', 'products'].edge_label)\n",
    "weight = weight.max() / weight"
   ]
  },
  {
   "cell_type": "code",
   "execution_count": 69,
   "metadata": {},
   "outputs": [],
   "source": [
    "def weighted_mse_loss(pred, target, weight=None):\n",
    "    weight = 1. if weight is None else weight[target].to(pred.dtype)\n",
    "    return (weight * (pred - target.to(pred.dtype)).pow(2)).mean()"
   ]
  },
  {
   "cell_type": "code",
   "execution_count": 70,
   "metadata": {},
   "outputs": [],
   "source": [
    "train_losses = []\n",
    "val_losses = []"
   ]
  },
  {
   "cell_type": "code",
   "execution_count": 71,
   "metadata": {},
   "outputs": [
    {
     "name": "stdout",
     "output_type": "stream",
     "text": [
      "HeteroData(\n",
      "  user={ x=[5844, 384] },\n",
      "  products={ x=[941, 394] },\n",
      "  (user, ratings, products)={\n",
      "    edge_index=[2, 6100],\n",
      "    edge_label=[6100],\n",
      "  },\n",
      "  (products, rev_ratings, user)={ edge_index=[2, 6100] }\n",
      ")\n"
     ]
    },
    {
     "data": {
      "text/plain": [
       "(['user', 'products'],\n",
       " [('user', 'ratings', 'products'), ('products', 'rev_ratings', 'user')])"
      ]
     },
     "execution_count": 71,
     "metadata": {},
     "output_type": "execute_result"
    }
   ],
   "source": [
    "data = data.to(device)\n",
    "print(data)\n",
    "data.metadata()"
   ]
  },
  {
   "cell_type": "code",
   "execution_count": 72,
   "metadata": {},
   "outputs": [],
   "source": [
    "import torch\n",
    "from torch_geometric.nn import SAGEConv, to_hetero, Linear\n",
    "from dotenv import load_dotenv\n",
    "\n",
    "class GNNEncoder(torch.nn.Module):\n",
    "    def __init__(self, hidden_channels, out_channels):\n",
    "        super().__init__()\n",
    "        self.conv1 = SAGEConv((-1, -1), hidden_channels)\n",
    "        self.conv2 = SAGEConv((-1, -1), out_channels)\n",
    "\n",
    "    def forward(self, x, edge_index):\n",
    "        x = self.conv1(x, edge_index).relu()\n",
    "        x = self.conv2(x, edge_index)\n",
    "        return x\n",
    "\n",
    "class EdgeDecoder(torch.nn.Module):\n",
    "    def __init__(self, hidden_channels):\n",
    "        super().__init__()\n",
    "        self.lin1 = Linear(2 * hidden_channels, hidden_channels)\n",
    "        self.lin2 = Linear(hidden_channels, 1)\n",
    "\n",
    "    def forward(self, z_dict, edge_label_index):\n",
    "        row, col = edge_label_index\n",
    "        z = torch.cat([z_dict['user'][row], z_dict['products'][col]], dim=-1)\n",
    "        z = self.lin1(z).relu()\n",
    "        z = self.lin2(z)\n",
    "        return z.view(-1)\n",
    "\n",
    "class Model(torch.nn.Module):\n",
    "    def __init__(self, hidden_channels):\n",
    "        super().__init__()\n",
    "        self.encoder = GNNEncoder(hidden_channels, hidden_channels)\n",
    "        self.encoder = to_hetero(self.encoder, data.metadata(), aggr='sum')\n",
    "        self.decoder = EdgeDecoder(hidden_channels)\n",
    "\n",
    "    def forward(self, x_dict, edge_index_dict, edge_label_index):\n",
    "        z_dict = self.encoder(x_dict, edge_index_dict)\n",
    "        return self.decoder(z_dict, edge_label_index)"
   ]
  },
  {
   "cell_type": "code",
   "execution_count": 73,
   "metadata": {},
   "outputs": [],
   "source": [
    "model = Model(hidden_channels=32).to(device)\n",
    "optimizer = torch.optim.Adam(model.parameters(), lr=0.01)\n",
    "train_losses = []\n",
    "val_losses = []"
   ]
  },
  {
   "cell_type": "code",
   "execution_count": 74,
   "metadata": {},
   "outputs": [],
   "source": [
    "def train():\n",
    "    model.train()\n",
    "    optimizer.zero_grad()\n",
    "    print(train_data.edge_index_dict['user', 'ratings', 'products'])\n",
    "    pred = model(train_data.x_dict, train_data.edge_index_dict,\n",
    "                 train_data['user', 'products'].edge_label_index)\n",
    "    target = train_data['user', 'products'].edge_label\n",
    "    loss = weighted_mse_loss(pred, target, weight)\n",
    "    loss.backward()\n",
    "    optimizer.step()\n",
    "\n",
    "    #store training loss for graph\n",
    "    train_losses.append(float(loss))\n",
    "\n",
    "    return float(loss)\n",
    "\n"
   ]
  },
  {
   "cell_type": "code",
   "execution_count": 75,
   "metadata": {},
   "outputs": [],
   "source": [
    "@torch.no_grad()\n",
    "def test(data):\n",
    "    model.eval()\n",
    "    pred = model(data.x_dict, data.edge_index_dict,\n",
    "                 data['user', 'products'].edge_label_index)\n",
    "    pred = pred.clamp(min=0, max=5)\n",
    "    target = data['user', 'products'].edge_label.float()\n",
    "    rmse = F.mse_loss(pred, target).sqrt()\n",
    "\n",
    "    #store validation loss for graph\n",
    "    val_losses.append(float(rmse))\n",
    "\n",
    "    return float(rmse)"
   ]
  },
  {
   "cell_type": "code",
   "execution_count": 76,
   "metadata": {},
   "outputs": [
    {
     "name": "stdout",
     "output_type": "stream",
     "text": [
      "HeteroData(\n",
      "  user={ x=[5844, 384] },\n",
      "  products={ x=[941, 394] },\n",
      "  (user, ratings, products)={\n",
      "    edge_index=[2, 6100],\n",
      "    edge_label=[6100],\n",
      "  },\n",
      "  (products, rev_ratings, user)={ edge_index=[2, 6100] }\n",
      ")\n",
      "<class 'dict'>\n",
      "(['user', 'products'], [('user', 'ratings', 'products'), ('products', 'rev_ratings', 'user')])\n"
     ]
    },
    {
     "name": "stderr",
     "output_type": "stream",
     "text": [
      "C:\\Users\\aj\\AppData\\Local\\Temp\\ipykernel_21216\\3619719553.py:6: UserWarning: To copy construct from a tensor, it is recommended to use sourceTensor.clone().detach() or sourceTensor.clone().detach().requires_grad_(True), rather than torch.tensor(sourceTensor).\n",
      "  train_data['user', 'products'].edge_index = torch.tensor(train_data['user', 'products'].edge_index)\n"
     ]
    },
    {
     "data": {
      "text/plain": [
       "(['user', 'products'],\n",
       " [('user', 'ratings', 'products'), ('products', 'rev_ratings', 'user')])"
      ]
     },
     "execution_count": 76,
     "metadata": {},
     "output_type": "execute_result"
    }
   ],
   "source": [
    "data = data.to(device)\n",
    "print(data)\n",
    "print(type(train_data.edge_index_dict))\n",
    "#data.metadata()\n",
    "print(train_data.metadata())\n",
    "train_data['user', 'products'].edge_index = torch.tensor(train_data['user', 'products'].edge_index)\n",
    "train_data.metadata()\n"
   ]
  },
  {
   "cell_type": "code",
   "execution_count": 77,
   "metadata": {},
   "outputs": [
    {
     "name": "stdout",
     "output_type": "stream",
     "text": [
      "tensor([[ 356, 2786, 2035,  ..., 5181, 4394, 2332],\n",
      "        [  83,  395,  295,  ...,  812,  659,  337]], device='cuda:0')\n",
      "Epoch: 001, Loss: 32.4488, Train: 4.0306, Val: 4.0284, Test: 4.0755\n",
      "tensor([[ 356, 2786, 2035,  ..., 5181, 4394, 2332],\n",
      "        [  83,  395,  295,  ...,  812,  659,  337]], device='cuda:0')\n",
      "Epoch: 002, Loss: 28.6678, Train: 3.6503, Val: 3.7456, Test: 3.7925\n",
      "tensor([[ 356, 2786, 2035,  ..., 5181, 4394, 2332],\n",
      "        [  83,  395,  295,  ...,  812,  659,  337]], device='cuda:0')\n",
      "Epoch: 003, Loss: 22.3690, Train: 2.8689, Val: 3.1954, Test: 3.2415\n",
      "tensor([[ 356, 2786, 2035,  ..., 5181, 4394, 2332],\n",
      "        [  83,  395,  295,  ...,  812,  659,  337]], device='cuda:0')\n",
      "Epoch: 004, Loss: 12.5408, Train: 1.5542, Val: 2.2424, Test: 2.2852\n",
      "tensor([[ 356, 2786, 2035,  ..., 5181, 4394, 2332],\n",
      "        [  83,  395,  295,  ...,  812,  659,  337]], device='cuda:0')\n",
      "Epoch: 005, Loss: 7.3674, Train: 1.4221, Val: 1.7044, Test: 1.7468\n",
      "tensor([[ 356, 2786, 2035,  ..., 5181, 4394, 2332],\n",
      "        [  83,  395,  295,  ...,  812,  659,  337]], device='cuda:0')\n",
      "Epoch: 006, Loss: 14.3533, Train: 1.3574, Val: 1.9926, Test: 2.0356\n",
      "tensor([[ 356, 2786, 2035,  ..., 5181, 4394, 2332],\n",
      "        [  83,  395,  295,  ...,  812,  659,  337]], device='cuda:0')\n",
      "Epoch: 007, Loss: 7.5178, Train: 1.8168, Val: 2.4426, Test: 2.4840\n",
      "tensor([[ 356, 2786, 2035,  ..., 5181, 4394, 2332],\n",
      "        [  83,  395,  295,  ...,  812,  659,  337]], device='cuda:0')\n",
      "Epoch: 008, Loss: 5.7327, Train: 2.1846, Val: 2.7445, Test: 2.7841\n",
      "tensor([[ 356, 2786, 2035,  ..., 5181, 4394, 2332],\n",
      "        [  83,  395,  295,  ...,  812,  659,  337]], device='cuda:0')\n",
      "Epoch: 009, Loss: 7.0361, Train: 2.3104, Val: 2.8530, Test: 2.8909\n",
      "tensor([[ 356, 2786, 2035,  ..., 5181, 4394, 2332],\n",
      "        [  83,  395,  295,  ...,  812,  659,  337]], device='cuda:0')\n",
      "Epoch: 010, Loss: 7.7616, Train: 2.2261, Val: 2.7997, Test: 2.8359\n",
      "tensor([[ 356, 2786, 2035,  ..., 5181, 4394, 2332],\n",
      "        [  83,  395,  295,  ...,  812,  659,  337]], device='cuda:0')\n",
      "Epoch: 011, Loss: 7.1531, Train: 1.9678, Val: 2.6303, Test: 2.6646\n",
      "tensor([[ 356, 2786, 2035,  ..., 5181, 4394, 2332],\n",
      "        [  83,  395,  295,  ...,  812,  659,  337]], device='cuda:0')\n",
      "Epoch: 012, Loss: 5.6075, Train: 1.5788, Val: 2.3651, Test: 2.3981\n",
      "tensor([[ 356, 2786, 2035,  ..., 5181, 4394, 2332],\n",
      "        [  83,  395,  295,  ...,  812,  659,  337]], device='cuda:0')\n",
      "Epoch: 013, Loss: 4.0588, Train: 1.1778, Val: 2.0510, Test: 2.0850\n",
      "tensor([[ 356, 2786, 2035,  ..., 5181, 4394, 2332],\n",
      "        [  83,  395,  295,  ...,  812,  659,  337]], device='cuda:0')\n",
      "Epoch: 014, Loss: 3.6852, Train: 0.9775, Val: 1.7956, Test: 1.8331\n",
      "tensor([[ 356, 2786, 2035,  ..., 5181, 4394, 2332],\n",
      "        [  83,  395,  295,  ...,  812,  659,  337]], device='cuda:0')\n",
      "Epoch: 015, Loss: 4.6020, Train: 0.9347, Val: 1.7127, Test: 1.7508\n",
      "tensor([[ 356, 2786, 2035,  ..., 5181, 4394, 2332],\n",
      "        [  83,  395,  295,  ...,  812,  659,  337]], device='cuda:0')\n",
      "Epoch: 016, Loss: 4.7889, Train: 0.9369, Val: 1.7956, Test: 1.8303\n",
      "tensor([[ 356, 2786, 2035,  ..., 5181, 4394, 2332],\n",
      "        [  83,  395,  295,  ...,  812,  659,  337]], device='cuda:0')\n",
      "Epoch: 017, Loss: 3.7098, Train: 1.0700, Val: 1.9654, Test: 1.9950\n",
      "tensor([[ 356, 2786, 2035,  ..., 5181, 4394, 2332],\n",
      "        [  83,  395,  295,  ...,  812,  659,  337]], device='cuda:0')\n",
      "Epoch: 018, Loss: 2.8329, Train: 1.2833, Val: 2.1325, Test: 2.1590\n",
      "tensor([[ 356, 2786, 2035,  ..., 5181, 4394, 2332],\n",
      "        [  83,  395,  295,  ...,  812,  659,  337]], device='cuda:0')\n",
      "Epoch: 019, Loss: 2.7788, Train: 1.4430, Val: 2.2378, Test: 2.2627\n",
      "tensor([[ 356, 2786, 2035,  ..., 5181, 4394, 2332],\n",
      "        [  83,  395,  295,  ...,  812,  659,  337]], device='cuda:0')\n",
      "Epoch: 020, Loss: 3.0819, Train: 1.4882, Val: 2.2596, Test: 2.2839\n",
      "tensor([[ 356, 2786, 2035,  ..., 5181, 4394, 2332],\n",
      "        [  83,  395,  295,  ...,  812,  659,  337]], device='cuda:0')\n",
      "Epoch: 021, Loss: 3.1863, Train: 1.4119, Val: 2.1977, Test: 2.2216\n",
      "tensor([[ 356, 2786, 2035,  ..., 5181, 4394, 2332],\n",
      "        [  83,  395,  295,  ...,  812,  659,  337]], device='cuda:0')\n",
      "Epoch: 022, Loss: 2.9134, Train: 1.2356, Val: 2.0635, Test: 2.0879\n",
      "tensor([[ 356, 2786, 2035,  ..., 5181, 4394, 2332],\n",
      "        [  83,  395,  295,  ...,  812,  659,  337]], device='cuda:0')\n",
      "Epoch: 023, Loss: 2.4384, Train: 1.0140, Val: 1.8828, Test: 1.9095\n",
      "tensor([[ 356, 2786, 2035,  ..., 5181, 4394, 2332],\n",
      "        [  83,  395,  295,  ...,  812,  659,  337]], device='cuda:0')\n",
      "Epoch: 024, Loss: 2.1331, Train: 0.8394, Val: 1.7030, Test: 1.7340\n",
      "tensor([[ 356, 2786, 2035,  ..., 5181, 4394, 2332],\n",
      "        [  83,  395,  295,  ...,  812,  659,  337]], device='cuda:0')\n",
      "Epoch: 025, Loss: 2.2507, Train: 0.7651, Val: 1.5856, Test: 1.6197\n",
      "tensor([[ 356, 2786, 2035,  ..., 5181, 4394, 2332],\n",
      "        [  83,  395,  295,  ...,  812,  659,  337]], device='cuda:0')\n",
      "Epoch: 026, Loss: 2.5439, Train: 0.7565, Val: 1.5708, Test: 1.6049\n",
      "tensor([[ 356, 2786, 2035,  ..., 5181, 4394, 2332],\n",
      "        [  83,  395,  295,  ...,  812,  659,  337]], device='cuda:0')\n",
      "Epoch: 027, Loss: 2.5066, Train: 0.8048, Val: 1.6495, Test: 1.6809\n",
      "tensor([[ 356, 2786, 2035,  ..., 5181, 4394, 2332],\n",
      "        [  83,  395,  295,  ...,  812,  659,  337]], device='cuda:0')\n",
      "Epoch: 028, Loss: 2.1704, Train: 0.9249, Val: 1.7748, Test: 1.8019\n",
      "tensor([[ 356, 2786, 2035,  ..., 5181, 4394, 2332],\n",
      "        [  83,  395,  295,  ...,  812,  659,  337]], device='cuda:0')\n",
      "Epoch: 029, Loss: 1.9699, Train: 1.0682, Val: 1.8909, Test: 1.9151\n",
      "tensor([[ 356, 2786, 2035,  ..., 5181, 4394, 2332],\n",
      "        [  83,  395,  295,  ...,  812,  659,  337]], device='cuda:0')\n",
      "Epoch: 030, Loss: 2.0491, Train: 1.1617, Val: 1.9582, Test: 1.9811\n",
      "tensor([[ 356, 2786, 2035,  ..., 5181, 4394, 2332],\n",
      "        [  83,  395,  295,  ...,  812,  659,  337]], device='cuda:0')\n",
      "Epoch: 031, Loss: 2.2010, Train: 1.1685, Val: 1.9602, Test: 1.9831\n",
      "tensor([[ 356, 2786, 2035,  ..., 5181, 4394, 2332],\n",
      "        [  83,  395,  295,  ...,  812,  659,  337]], device='cuda:0')\n",
      "Epoch: 032, Loss: 2.2112, Train: 1.0898, Val: 1.8993, Test: 1.9230\n",
      "tensor([[ 356, 2786, 2035,  ..., 5181, 4394, 2332],\n",
      "        [  83,  395,  295,  ...,  812,  659,  337]], device='cuda:0')\n",
      "Epoch: 033, Loss: 2.0616, Train: 0.9572, Val: 1.7930, Test: 1.8187\n",
      "tensor([[ 356, 2786, 2035,  ..., 5181, 4394, 2332],\n",
      "        [  83,  395,  295,  ...,  812,  659,  337]], device='cuda:0')\n",
      "Epoch: 034, Loss: 1.9140, Train: 0.8316, Val: 1.6777, Test: 1.7068\n",
      "tensor([[ 356, 2786, 2035,  ..., 5181, 4394, 2332],\n",
      "        [  83,  395,  295,  ...,  812,  659,  337]], device='cuda:0')\n",
      "Epoch: 035, Loss: 1.9483, Train: 0.7721, Val: 1.6088, Test: 1.6409\n",
      "tensor([[ 356, 2786, 2035,  ..., 5181, 4394, 2332],\n",
      "        [  83,  395,  295,  ...,  812,  659,  337]], device='cuda:0')\n",
      "Epoch: 036, Loss: 2.0719, Train: 0.7788, Val: 1.6185, Test: 1.6503\n",
      "tensor([[ 356, 2786, 2035,  ..., 5181, 4394, 2332],\n",
      "        [  83,  395,  295,  ...,  812,  659,  337]], device='cuda:0')\n",
      "Epoch: 037, Loss: 2.0271, Train: 0.8409, Val: 1.6885, Test: 1.7175\n",
      "tensor([[ 356, 2786, 2035,  ..., 5181, 4394, 2332],\n",
      "        [  83,  395,  295,  ...,  812,  659,  337]], device='cuda:0')\n",
      "Epoch: 038, Loss: 1.8943, Train: 0.9369, Val: 1.7765, Test: 1.8028\n",
      "tensor([[ 356, 2786, 2035,  ..., 5181, 4394, 2332],\n",
      "        [  83,  395,  295,  ...,  812,  659,  337]], device='cuda:0')\n",
      "Epoch: 039, Loss: 1.8629, Train: 1.0181, Val: 1.8434, Test: 1.8678\n",
      "tensor([[ 356, 2786, 2035,  ..., 5181, 4394, 2332],\n",
      "        [  83,  395,  295,  ...,  812,  659,  337]], device='cuda:0')\n",
      "Epoch: 040, Loss: 1.9213, Train: 1.0464, Val: 1.8667, Test: 1.8906\n",
      "tensor([[ 356, 2786, 2035,  ..., 5181, 4394, 2332],\n",
      "        [  83,  395,  295,  ...,  812,  659,  337]], device='cuda:0')\n",
      "Epoch: 041, Loss: 1.9498, Train: 1.0138, Val: 1.8432, Test: 1.8676\n",
      "tensor([[ 356, 2786, 2035,  ..., 5181, 4394, 2332],\n",
      "        [  83,  395,  295,  ...,  812,  659,  337]], device='cuda:0')\n",
      "Epoch: 042, Loss: 1.8974, Train: 0.9387, Val: 1.7847, Test: 1.8107\n",
      "tensor([[ 356, 2786, 2035,  ..., 5181, 4394, 2332],\n",
      "        [  83,  395,  295,  ...,  812,  659,  337]], device='cuda:0')\n",
      "Epoch: 043, Loss: 1.8207, Train: 0.8564, Val: 1.7149, Test: 1.7434\n",
      "tensor([[ 356, 2786, 2035,  ..., 5181, 4394, 2332],\n",
      "        [  83,  395,  295,  ...,  812,  659,  337]], device='cuda:0')\n",
      "Epoch: 044, Loss: 1.8019, Train: 0.8031, Val: 1.6645, Test: 1.6950\n",
      "tensor([[ 356, 2786, 2035,  ..., 5181, 4394, 2332],\n",
      "        [  83,  395,  295,  ...,  812,  659,  337]], device='cuda:0')\n",
      "Epoch: 045, Loss: 1.8372, Train: 0.7925, Val: 1.6563, Test: 1.6872\n",
      "tensor([[ 356, 2786, 2035,  ..., 5181, 4394, 2332],\n",
      "        [  83,  395,  295,  ...,  812,  659,  337]], device='cuda:0')\n",
      "Epoch: 046, Loss: 1.8396, Train: 0.8225, Val: 1.6916, Test: 1.7210\n",
      "tensor([[ 356, 2786, 2035,  ..., 5181, 4394, 2332],\n",
      "        [  83,  395,  295,  ...,  812,  659,  337]], device='cuda:0')\n",
      "Epoch: 047, Loss: 1.7858, Train: 0.8812, Val: 1.7503, Test: 1.7773\n",
      "tensor([[ 356, 2786, 2035,  ..., 5181, 4394, 2332],\n",
      "        [  83,  395,  295,  ...,  812,  659,  337]], device='cuda:0')\n",
      "Epoch: 048, Loss: 1.7459, Train: 0.9413, Val: 1.8048, Test: 1.8298\n",
      "tensor([[ 356, 2786, 2035,  ..., 5181, 4394, 2332],\n",
      "        [  83,  395,  295,  ...,  812,  659,  337]], device='cuda:0')\n",
      "Epoch: 049, Loss: 1.7542, Train: 0.9729, Val: 1.8337, Test: 1.8577\n",
      "tensor([[ 356, 2786, 2035,  ..., 5181, 4394, 2332],\n",
      "        [  83,  395,  295,  ...,  812,  659,  337]], device='cuda:0')\n",
      "Epoch: 050, Loss: 1.7699, Train: 0.9625, Val: 1.8289, Test: 1.8529\n",
      "tensor([[ 356, 2786, 2035,  ..., 5181, 4394, 2332],\n",
      "        [  83,  395,  295,  ...,  812,  659,  337]], device='cuda:0')\n",
      "Epoch: 051, Loss: 1.7526, Train: 0.9183, Val: 1.7964, Test: 1.8210\n",
      "tensor([[ 356, 2786, 2035,  ..., 5181, 4394, 2332],\n",
      "        [  83,  395,  295,  ...,  812,  659,  337]], device='cuda:0')\n",
      "Epoch: 052, Loss: 1.7171, Train: 0.8639, Val: 1.7530, Test: 1.7785\n",
      "tensor([[ 356, 2786, 2035,  ..., 5181, 4394, 2332],\n",
      "        [  83,  395,  295,  ...,  812,  659,  337]], device='cuda:0')\n",
      "Epoch: 053, Loss: 1.7039, Train: 0.8251, Val: 1.7202, Test: 1.7464\n",
      "tensor([[ 356, 2786, 2035,  ..., 5181, 4394, 2332],\n",
      "        [  83,  395,  295,  ...,  812,  659,  337]], device='cuda:0')\n",
      "Epoch: 054, Loss: 1.7162, Train: 0.8155, Val: 1.7142, Test: 1.7402\n",
      "tensor([[ 356, 2786, 2035,  ..., 5181, 4394, 2332],\n",
      "        [  83,  395,  295,  ...,  812,  659,  337]], device='cuda:0')\n",
      "Epoch: 055, Loss: 1.7166, Train: 0.8351, Val: 1.7366, Test: 1.7613\n",
      "tensor([[ 356, 2786, 2035,  ..., 5181, 4394, 2332],\n",
      "        [  83,  395,  295,  ...,  812,  659,  337]], device='cuda:0')\n",
      "Epoch: 056, Loss: 1.6933, Train: 0.8729, Val: 1.7744, Test: 1.7973\n",
      "tensor([[ 356, 2786, 2035,  ..., 5181, 4394, 2332],\n",
      "        [  83,  395,  295,  ...,  812,  659,  337]], device='cuda:0')\n",
      "Epoch: 057, Loss: 1.6754, Train: 0.9092, Val: 1.8085, Test: 1.8299\n",
      "tensor([[ 356, 2786, 2035,  ..., 5181, 4394, 2332],\n",
      "        [  83,  395,  295,  ...,  812,  659,  337]], device='cuda:0')\n",
      "Epoch: 058, Loss: 1.6777, Train: 0.9248, Val: 1.8243, Test: 1.8447\n",
      "tensor([[ 356, 2786, 2035,  ..., 5181, 4394, 2332],\n",
      "        [  83,  395,  295,  ...,  812,  659,  337]], device='cuda:0')\n",
      "Epoch: 059, Loss: 1.6813, Train: 0.9123, Val: 1.8169, Test: 1.8370\n",
      "tensor([[ 356, 2786, 2035,  ..., 5181, 4394, 2332],\n",
      "        [  83,  395,  295,  ...,  812,  659,  337]], device='cuda:0')\n",
      "Epoch: 060, Loss: 1.6696, Train: 0.8793, Val: 1.7918, Test: 1.8122\n",
      "tensor([[ 356, 2786, 2035,  ..., 5181, 4394, 2332],\n",
      "        [  83,  395,  295,  ...,  812,  659,  337]], device='cuda:0')\n",
      "Epoch: 061, Loss: 1.6527, Train: 0.8431, Val: 1.7626, Test: 1.7835\n",
      "tensor([[ 356, 2786, 2035,  ..., 5181, 4394, 2332],\n",
      "        [  83,  395,  295,  ...,  812,  659,  337]], device='cuda:0')\n",
      "Epoch: 062, Loss: 1.6475, Train: 0.8200, Val: 1.7446, Test: 1.7657\n",
      "tensor([[ 356, 2786, 2035,  ..., 5181, 4394, 2332],\n",
      "        [  83,  395,  295,  ...,  812,  659,  337]], device='cuda:0')\n",
      "Epoch: 063, Loss: 1.6497, Train: 0.8177, Val: 1.7468, Test: 1.7674\n",
      "tensor([[ 356, 2786, 2035,  ..., 5181, 4394, 2332],\n",
      "        [  83,  395,  295,  ...,  812,  659,  337]], device='cuda:0')\n",
      "Epoch: 064, Loss: 1.6435, Train: 0.8341, Val: 1.7666, Test: 1.7863\n",
      "tensor([[ 356, 2786, 2035,  ..., 5181, 4394, 2332],\n",
      "        [  83,  395,  295,  ...,  812,  659,  337]], device='cuda:0')\n",
      "Epoch: 065, Loss: 1.6302, Train: 0.8590, Val: 1.7931, Test: 1.8116\n",
      "tensor([[ 356, 2786, 2035,  ..., 5181, 4394, 2332],\n",
      "        [  83,  395,  295,  ...,  812,  659,  337]], device='cuda:0')\n",
      "Epoch: 066, Loss: 1.6225, Train: 0.8782, Val: 1.8134, Test: 1.8310\n",
      "tensor([[ 356, 2786, 2035,  ..., 5181, 4394, 2332],\n",
      "        [  83,  395,  295,  ...,  812,  659,  337]], device='cuda:0')\n",
      "Epoch: 067, Loss: 1.6216, Train: 0.8812, Val: 1.8190, Test: 1.8361\n",
      "tensor([[ 356, 2786, 2035,  ..., 5181, 4394, 2332],\n",
      "        [  83,  395,  295,  ...,  812,  659,  337]], device='cuda:0')\n",
      "Epoch: 068, Loss: 1.6176, Train: 0.8663, Val: 1.8089, Test: 1.8260\n",
      "tensor([[ 356, 2786, 2035,  ..., 5181, 4394, 2332],\n",
      "        [  83,  395,  295,  ...,  812,  659,  337]], device='cuda:0')\n",
      "Epoch: 069, Loss: 1.6072, Train: 0.8417, Val: 1.7895, Test: 1.8069\n",
      "tensor([[ 356, 2786, 2035,  ..., 5181, 4394, 2332],\n",
      "        [  83,  395,  295,  ...,  812,  659,  337]], device='cuda:0')\n",
      "Epoch: 070, Loss: 1.5982, Train: 0.8198, Val: 1.7713, Test: 1.7892\n",
      "tensor([[ 356, 2786, 2035,  ..., 5181, 4394, 2332],\n",
      "        [  83,  395,  295,  ...,  812,  659,  337]], device='cuda:0')\n",
      "Epoch: 071, Loss: 1.5948, Train: 0.8110, Val: 1.7658, Test: 1.7837\n",
      "tensor([[ 356, 2786, 2035,  ..., 5181, 4394, 2332],\n",
      "        [  83,  395,  295,  ...,  812,  659,  337]], device='cuda:0')\n",
      "Epoch: 072, Loss: 1.5911, Train: 0.8176, Val: 1.7761, Test: 1.7936\n",
      "tensor([[ 356, 2786, 2035,  ..., 5181, 4394, 2332],\n",
      "        [  83,  395,  295,  ...,  812,  659,  337]], device='cuda:0')\n",
      "Epoch: 073, Loss: 1.5820, Train: 0.8342, Val: 1.7957, Test: 1.8125\n",
      "tensor([[ 356, 2786, 2035,  ..., 5181, 4394, 2332],\n",
      "        [  83,  395,  295,  ...,  812,  659,  337]], device='cuda:0')\n",
      "Epoch: 074, Loss: 1.5735, Train: 0.8491, Val: 1.8127, Test: 1.8288\n",
      "tensor([[ 356, 2786, 2035,  ..., 5181, 4394, 2332],\n",
      "        [  83,  395,  295,  ...,  812,  659,  337]], device='cuda:0')\n",
      "Epoch: 075, Loss: 1.5690, Train: 0.8531, Val: 1.8191, Test: 1.8350\n",
      "tensor([[ 356, 2786, 2035,  ..., 5181, 4394, 2332],\n",
      "        [  83,  395,  295,  ...,  812,  659,  337]], device='cuda:0')\n",
      "Epoch: 076, Loss: 1.5642, Train: 0.8431, Val: 1.8128, Test: 1.8287\n",
      "tensor([[ 356, 2786, 2035,  ..., 5181, 4394, 2332],\n",
      "        [  83,  395,  295,  ...,  812,  659,  337]], device='cuda:0')\n",
      "Epoch: 077, Loss: 1.5564, Train: 0.8255, Val: 1.7997, Test: 1.8162\n",
      "tensor([[ 356, 2786, 2035,  ..., 5181, 4394, 2332],\n",
      "        [  83,  395,  295,  ...,  812,  659,  337]], device='cuda:0')\n",
      "Epoch: 078, Loss: 1.5496, Train: 0.8129, Val: 1.7926, Test: 1.8095\n",
      "tensor([[ 356, 2786, 2035,  ..., 5181, 4394, 2332],\n",
      "        [  83,  395,  295,  ...,  812,  659,  337]], device='cuda:0')\n",
      "Epoch: 079, Loss: 1.5444, Train: 0.8126, Val: 1.7988, Test: 1.8156\n",
      "tensor([[ 356, 2786, 2035,  ..., 5181, 4394, 2332],\n",
      "        [  83,  395,  295,  ...,  812,  659,  337]], device='cuda:0')\n",
      "Epoch: 080, Loss: 1.5368, Train: 0.8194, Val: 1.8115, Test: 1.8281\n",
      "tensor([[ 356, 2786, 2035,  ..., 5181, 4394, 2332],\n",
      "        [  83,  395,  295,  ...,  812,  659,  337]], device='cuda:0')\n",
      "Epoch: 081, Loss: 1.5301, Train: 0.8245, Val: 1.8211, Test: 1.8375\n",
      "tensor([[ 356, 2786, 2035,  ..., 5181, 4394, 2332],\n",
      "        [  83,  395,  295,  ...,  812,  659,  337]], device='cuda:0')\n",
      "Epoch: 082, Loss: 1.5247, Train: 0.8232, Val: 1.8234, Test: 1.8398\n",
      "tensor([[ 356, 2786, 2035,  ..., 5181, 4394, 2332],\n",
      "        [  83,  395,  295,  ...,  812,  659,  337]], device='cuda:0')\n",
      "Epoch: 083, Loss: 1.5177, Train: 0.8150, Val: 1.8182, Test: 1.8350\n",
      "tensor([[ 356, 2786, 2035,  ..., 5181, 4394, 2332],\n",
      "        [  83,  395,  295,  ...,  812,  659,  337]], device='cuda:0')\n",
      "Epoch: 084, Loss: 1.5097, Train: 0.8060, Val: 1.8123, Test: 1.8294\n",
      "tensor([[ 356, 2786, 2035,  ..., 5181, 4394, 2332],\n",
      "        [  83,  395,  295,  ...,  812,  659,  337]], device='cuda:0')\n",
      "Epoch: 085, Loss: 1.5043, Train: 0.8055, Val: 1.8157, Test: 1.8328\n",
      "tensor([[ 356, 2786, 2035,  ..., 5181, 4394, 2332],\n",
      "        [  83,  395,  295,  ...,  812,  659,  337]], device='cuda:0')\n",
      "Epoch: 086, Loss: 1.4975, Train: 0.8115, Val: 1.8261, Test: 1.8428\n",
      "tensor([[ 356, 2786, 2035,  ..., 5181, 4394, 2332],\n",
      "        [  83,  395,  295,  ...,  812,  659,  337]], device='cuda:0')\n",
      "Epoch: 087, Loss: 1.4897, Train: 0.8144, Val: 1.8335, Test: 1.8499\n",
      "tensor([[ 356, 2786, 2035,  ..., 5181, 4394, 2332],\n",
      "        [  83,  395,  295,  ...,  812,  659,  337]], device='cuda:0')\n",
      "Epoch: 088, Loss: 1.4836, Train: 0.8084, Val: 1.8326, Test: 1.8490\n",
      "tensor([[ 356, 2786, 2035,  ..., 5181, 4394, 2332],\n",
      "        [  83,  395,  295,  ...,  812,  659,  337]], device='cuda:0')\n",
      "Epoch: 089, Loss: 1.4763, Train: 0.7970, Val: 1.8267, Test: 1.8435\n",
      "tensor([[ 356, 2786, 2035,  ..., 5181, 4394, 2332],\n",
      "        [  83,  395,  295,  ...,  812,  659,  337]], device='cuda:0')\n",
      "Epoch: 090, Loss: 1.4687, Train: 0.7885, Val: 1.8239, Test: 1.8408\n",
      "tensor([[ 356, 2786, 2035,  ..., 5181, 4394, 2332],\n",
      "        [  83,  395,  295,  ...,  812,  659,  337]], device='cuda:0')\n",
      "Epoch: 091, Loss: 1.4619, Train: 0.7893, Val: 1.8302, Test: 1.8469\n",
      "tensor([[ 356, 2786, 2035,  ..., 5181, 4394, 2332],\n",
      "        [  83,  395,  295,  ...,  812,  659,  337]], device='cuda:0')\n",
      "Epoch: 092, Loss: 1.4543, Train: 0.7964, Val: 1.8424, Test: 1.8586\n",
      "tensor([[ 356, 2786, 2035,  ..., 5181, 4394, 2332],\n",
      "        [  83,  395,  295,  ...,  812,  659,  337]], device='cuda:0')\n",
      "Epoch: 093, Loss: 1.4471, Train: 0.7986, Val: 1.8501, Test: 1.8660\n",
      "tensor([[ 356, 2786, 2035,  ..., 5181, 4394, 2332],\n",
      "        [  83,  395,  295,  ...,  812,  659,  337]], device='cuda:0')\n",
      "Epoch: 094, Loss: 1.4401, Train: 0.7927, Val: 1.8508, Test: 1.8667\n",
      "tensor([[ 356, 2786, 2035,  ..., 5181, 4394, 2332],\n",
      "        [  83,  395,  295,  ...,  812,  659,  337]], device='cuda:0')\n",
      "Epoch: 095, Loss: 1.4326, Train: 0.7876, Val: 1.8526, Test: 1.8683\n",
      "tensor([[ 356, 2786, 2035,  ..., 5181, 4394, 2332],\n",
      "        [  83,  395,  295,  ...,  812,  659,  337]], device='cuda:0')\n",
      "Epoch: 096, Loss: 1.4249, Train: 0.7860, Val: 1.8576, Test: 1.8728\n",
      "tensor([[ 356, 2786, 2035,  ..., 5181, 4394, 2332],\n",
      "        [  83,  395,  295,  ...,  812,  659,  337]], device='cuda:0')\n",
      "Epoch: 097, Loss: 1.4176, Train: 0.7814, Val: 1.8604, Test: 1.8753\n",
      "tensor([[ 356, 2786, 2035,  ..., 5181, 4394, 2332],\n",
      "        [  83,  395,  295,  ...,  812,  659,  337]], device='cuda:0')\n",
      "Epoch: 098, Loss: 1.4105, Train: 0.7757, Val: 1.8628, Test: 1.8775\n",
      "tensor([[ 356, 2786, 2035,  ..., 5181, 4394, 2332],\n",
      "        [  83,  395,  295,  ...,  812,  659,  337]], device='cuda:0')\n",
      "Epoch: 099, Loss: 1.4036, Train: 0.7774, Val: 1.8720, Test: 1.8858\n",
      "tensor([[ 356, 2786, 2035,  ..., 5181, 4394, 2332],\n",
      "        [  83,  395,  295,  ...,  812,  659,  337]], device='cuda:0')\n",
      "Epoch: 100, Loss: 1.3955, Train: 0.7769, Val: 1.8798, Test: 1.8930\n",
      "tensor([[ 356, 2786, 2035,  ..., 5181, 4394, 2332],\n",
      "        [  83,  395,  295,  ...,  812,  659,  337]], device='cuda:0')\n",
      "Epoch: 101, Loss: 1.3878, Train: 0.7734, Val: 1.8855, Test: 1.8981\n",
      "tensor([[ 356, 2786, 2035,  ..., 5181, 4394, 2332],\n",
      "        [  83,  395,  295,  ...,  812,  659,  337]], device='cuda:0')\n",
      "Epoch: 102, Loss: 1.3808, Train: 0.7763, Val: 1.8955, Test: 1.9072\n",
      "tensor([[ 356, 2786, 2035,  ..., 5181, 4394, 2332],\n",
      "        [  83,  395,  295,  ...,  812,  659,  337]], device='cuda:0')\n",
      "Epoch: 103, Loss: 1.3731, Train: 0.7715, Val: 1.8994, Test: 1.9108\n",
      "tensor([[ 356, 2786, 2035,  ..., 5181, 4394, 2332],\n",
      "        [  83,  395,  295,  ...,  812,  659,  337]], device='cuda:0')\n",
      "Epoch: 104, Loss: 1.3650, Train: 0.7622, Val: 1.9004, Test: 1.9113\n",
      "tensor([[ 356, 2786, 2035,  ..., 5181, 4394, 2332],\n",
      "        [  83,  395,  295,  ...,  812,  659,  337]], device='cuda:0')\n",
      "Epoch: 105, Loss: 1.3586, Train: 0.7738, Val: 1.9154, Test: 1.9250\n",
      "tensor([[ 356, 2786, 2035,  ..., 5181, 4394, 2332],\n",
      "        [  83,  395,  295,  ...,  812,  659,  337]], device='cuda:0')\n",
      "Epoch: 106, Loss: 1.3523, Train: 0.7646, Val: 1.9157, Test: 1.9249\n",
      "tensor([[ 356, 2786, 2035,  ..., 5181, 4394, 2332],\n",
      "        [  83,  395,  295,  ...,  812,  659,  337]], device='cuda:0')\n",
      "Epoch: 107, Loss: 1.3438, Train: 0.7467, Val: 1.9103, Test: 1.9190\n",
      "tensor([[ 356, 2786, 2035,  ..., 5181, 4394, 2332],\n",
      "        [  83,  395,  295,  ...,  812,  659,  337]], device='cuda:0')\n",
      "Epoch: 108, Loss: 1.3389, Train: 0.7576, Val: 1.9256, Test: 1.9333\n",
      "tensor([[ 356, 2786, 2035,  ..., 5181, 4394, 2332],\n",
      "        [  83,  395,  295,  ...,  812,  659,  337]], device='cuda:0')\n",
      "Epoch: 109, Loss: 1.3300, Train: 0.7667, Val: 1.9391, Test: 1.9462\n",
      "tensor([[ 356, 2786, 2035,  ..., 5181, 4394, 2332],\n",
      "        [  83,  395,  295,  ...,  812,  659,  337]], device='cuda:0')\n",
      "Epoch: 110, Loss: 1.3257, Train: 0.7544, Val: 1.9382, Test: 1.9448\n",
      "tensor([[ 356, 2786, 2035,  ..., 5181, 4394, 2332],\n",
      "        [  83,  395,  295,  ...,  812,  659,  337]], device='cuda:0')\n",
      "Epoch: 111, Loss: 1.3174, Train: 0.7457, Val: 1.9394, Test: 1.9455\n",
      "tensor([[ 356, 2786, 2035,  ..., 5181, 4394, 2332],\n",
      "        [  83,  395,  295,  ...,  812,  659,  337]], device='cuda:0')\n",
      "Epoch: 112, Loss: 1.3134, Train: 0.7604, Val: 1.9558, Test: 1.9617\n",
      "tensor([[ 356, 2786, 2035,  ..., 5181, 4394, 2332],\n",
      "        [  83,  395,  295,  ...,  812,  659,  337]], device='cuda:0')\n",
      "Epoch: 113, Loss: 1.3068, Train: 0.7561, Val: 1.9594, Test: 1.9651\n",
      "tensor([[ 356, 2786, 2035,  ..., 5181, 4394, 2332],\n",
      "        [  83,  395,  295,  ...,  812,  659,  337]], device='cuda:0')\n",
      "Epoch: 114, Loss: 1.3008, Train: 0.7386, Val: 1.9544, Test: 1.9596\n",
      "tensor([[ 356, 2786, 2035,  ..., 5181, 4394, 2332],\n",
      "        [  83,  395,  295,  ...,  812,  659,  337]], device='cuda:0')\n",
      "Epoch: 115, Loss: 1.2959, Train: 0.7418, Val: 1.9634, Test: 1.9684\n",
      "tensor([[ 356, 2786, 2035,  ..., 5181, 4394, 2332],\n",
      "        [  83,  395,  295,  ...,  812,  659,  337]], device='cuda:0')\n",
      "Epoch: 116, Loss: 1.2892, Train: 0.7523, Val: 1.9769, Test: 1.9816\n",
      "tensor([[ 356, 2786, 2035,  ..., 5181, 4394, 2332],\n",
      "        [  83,  395,  295,  ...,  812,  659,  337]], device='cuda:0')\n",
      "Epoch: 117, Loss: 1.2850, Train: 0.7450, Val: 1.9789, Test: 1.9835\n",
      "tensor([[ 356, 2786, 2035,  ..., 5181, 4394, 2332],\n",
      "        [  83,  395,  295,  ...,  812,  659,  337]], device='cuda:0')\n",
      "Epoch: 118, Loss: 1.2791, Train: 0.7400, Val: 1.9813, Test: 1.9859\n",
      "tensor([[ 356, 2786, 2035,  ..., 5181, 4394, 2332],\n",
      "        [  83,  395,  295,  ...,  812,  659,  337]], device='cuda:0')\n",
      "Epoch: 119, Loss: 1.2745, Train: 0.7487, Val: 1.9904, Test: 1.9954\n",
      "tensor([[ 356, 2786, 2035,  ..., 5181, 4394, 2332],\n",
      "        [  83,  395,  295,  ...,  812,  659,  337]], device='cuda:0')\n",
      "Epoch: 120, Loss: 1.2703, Train: 0.7393, Val: 1.9888, Test: 1.9940\n",
      "tensor([[ 356, 2786, 2035,  ..., 5181, 4394, 2332],\n",
      "        [  83,  395,  295,  ...,  812,  659,  337]], device='cuda:0')\n",
      "Epoch: 121, Loss: 1.2648, Train: 0.7291, Val: 1.9872, Test: 1.9923\n",
      "tensor([[ 356, 2786, 2035,  ..., 5181, 4394, 2332],\n",
      "        [  83,  395,  295,  ...,  812,  659,  337]], device='cuda:0')\n",
      "Epoch: 122, Loss: 1.2614, Train: 0.7422, Val: 1.9994, Test: 2.0049\n",
      "tensor([[ 356, 2786, 2035,  ..., 5181, 4394, 2332],\n",
      "        [  83,  395,  295,  ...,  812,  659,  337]], device='cuda:0')\n",
      "Epoch: 123, Loss: 1.2563, Train: 0.7376, Val: 2.0014, Test: 2.0067\n",
      "tensor([[ 356, 2786, 2035,  ..., 5181, 4394, 2332],\n",
      "        [  83,  395,  295,  ...,  812,  659,  337]], device='cuda:0')\n",
      "Epoch: 124, Loss: 1.2519, Train: 0.7292, Val: 2.0002, Test: 2.0053\n",
      "tensor([[ 356, 2786, 2035,  ..., 5181, 4394, 2332],\n",
      "        [  83,  395,  295,  ...,  812,  659,  337]], device='cuda:0')\n",
      "Epoch: 125, Loss: 1.2483, Train: 0.7363, Val: 2.0072, Test: 2.0126\n",
      "tensor([[ 356, 2786, 2035,  ..., 5181, 4394, 2332],\n",
      "        [  83,  395,  295,  ...,  812,  659,  337]], device='cuda:0')\n",
      "Epoch: 126, Loss: 1.2428, Train: 0.7324, Val: 2.0080, Test: 2.0134\n",
      "tensor([[ 356, 2786, 2035,  ..., 5181, 4394, 2332],\n",
      "        [  83,  395,  295,  ...,  812,  659,  337]], device='cuda:0')\n",
      "Epoch: 127, Loss: 1.2387, Train: 0.7282, Val: 2.0089, Test: 2.0142\n",
      "tensor([[ 356, 2786, 2035,  ..., 5181, 4394, 2332],\n",
      "        [  83,  395,  295,  ...,  812,  659,  337]], device='cuda:0')\n",
      "Epoch: 128, Loss: 1.2344, Train: 0.7318, Val: 2.0142, Test: 2.0193\n",
      "tensor([[ 356, 2786, 2035,  ..., 5181, 4394, 2332],\n",
      "        [  83,  395,  295,  ...,  812,  659,  337]], device='cuda:0')\n",
      "Epoch: 129, Loss: 1.2304, Train: 0.7271, Val: 2.0146, Test: 2.0197\n",
      "tensor([[ 356, 2786, 2035,  ..., 5181, 4394, 2332],\n",
      "        [  83,  395,  295,  ...,  812,  659,  337]], device='cuda:0')\n",
      "Epoch: 130, Loss: 1.2266, Train: 0.7263, Val: 2.0165, Test: 2.0215\n",
      "tensor([[ 356, 2786, 2035,  ..., 5181, 4394, 2332],\n",
      "        [  83,  395,  295,  ...,  812,  659,  337]], device='cuda:0')\n",
      "Epoch: 131, Loss: 1.2225, Train: 0.7265, Val: 2.0187, Test: 2.0236\n",
      "tensor([[ 356, 2786, 2035,  ..., 5181, 4394, 2332],\n",
      "        [  83,  395,  295,  ...,  812,  659,  337]], device='cuda:0')\n",
      "Epoch: 132, Loss: 1.2186, Train: 0.7238, Val: 2.0192, Test: 2.0240\n",
      "tensor([[ 356, 2786, 2035,  ..., 5181, 4394, 2332],\n",
      "        [  83,  395,  295,  ...,  812,  659,  337]], device='cuda:0')\n",
      "Epoch: 133, Loss: 1.2151, Train: 0.7263, Val: 2.0224, Test: 2.0273\n",
      "tensor([[ 356, 2786, 2035,  ..., 5181, 4394, 2332],\n",
      "        [  83,  395,  295,  ...,  812,  659,  337]], device='cuda:0')\n",
      "Epoch: 134, Loss: 1.2113, Train: 0.7191, Val: 2.0206, Test: 2.0254\n",
      "tensor([[ 356, 2786, 2035,  ..., 5181, 4394, 2332],\n",
      "        [  83,  395,  295,  ...,  812,  659,  337]], device='cuda:0')\n",
      "Epoch: 135, Loss: 1.2081, Train: 0.7291, Val: 2.0274, Test: 2.0322\n",
      "tensor([[ 356, 2786, 2035,  ..., 5181, 4394, 2332],\n",
      "        [  83,  395,  295,  ...,  812,  659,  337]], device='cuda:0')\n",
      "Epoch: 136, Loss: 1.2061, Train: 0.7132, Val: 2.0202, Test: 2.0248\n",
      "tensor([[ 356, 2786, 2035,  ..., 5181, 4394, 2332],\n",
      "        [  83,  395,  295,  ...,  812,  659,  337]], device='cuda:0')\n",
      "Epoch: 137, Loss: 1.2018, Train: 0.7150, Val: 2.0232, Test: 2.0278\n",
      "tensor([[ 356, 2786, 2035,  ..., 5181, 4394, 2332],\n",
      "        [  83,  395,  295,  ...,  812,  659,  337]], device='cuda:0')\n",
      "Epoch: 138, Loss: 1.1978, Train: 0.7266, Val: 2.0317, Test: 2.0364\n",
      "tensor([[ 356, 2786, 2035,  ..., 5181, 4394, 2332],\n",
      "        [  83,  395,  295,  ...,  812,  659,  337]], device='cuda:0')\n",
      "Epoch: 139, Loss: 1.1961, Train: 0.7133, Val: 2.0264, Test: 2.0311\n",
      "tensor([[ 356, 2786, 2035,  ..., 5181, 4394, 2332],\n",
      "        [  83,  395,  295,  ...,  812,  659,  337]], device='cuda:0')\n",
      "Epoch: 140, Loss: 1.1912, Train: 0.7136, Val: 2.0286, Test: 2.0333\n",
      "tensor([[ 356, 2786, 2035,  ..., 5181, 4394, 2332],\n",
      "        [  83,  395,  295,  ...,  812,  659,  337]], device='cuda:0')\n",
      "Epoch: 141, Loss: 1.1878, Train: 0.7231, Val: 2.0351, Test: 2.0397\n",
      "tensor([[ 356, 2786, 2035,  ..., 5181, 4394, 2332],\n",
      "        [  83,  395,  295,  ...,  812,  659,  337]], device='cuda:0')\n",
      "Epoch: 142, Loss: 1.1864, Train: 0.7065, Val: 2.0274, Test: 2.0316\n",
      "tensor([[ 356, 2786, 2035,  ..., 5181, 4394, 2332],\n",
      "        [  83,  395,  295,  ...,  812,  659,  337]], device='cuda:0')\n",
      "Epoch: 143, Loss: 1.1829, Train: 0.7145, Val: 2.0329, Test: 2.0371\n",
      "tensor([[ 356, 2786, 2035,  ..., 5181, 4394, 2332],\n",
      "        [  83,  395,  295,  ...,  812,  659,  337]], device='cuda:0')\n",
      "Epoch: 144, Loss: 1.1785, Train: 0.7143, Val: 2.0342, Test: 2.0382\n",
      "tensor([[ 356, 2786, 2035,  ..., 5181, 4394, 2332],\n",
      "        [  83,  395,  295,  ...,  812,  659,  337]], device='cuda:0')\n",
      "Epoch: 145, Loss: 1.1756, Train: 0.7045, Val: 2.0308, Test: 2.0343\n",
      "tensor([[ 356, 2786, 2035,  ..., 5181, 4394, 2332],\n",
      "        [  83,  395,  295,  ...,  812,  659,  337]], device='cuda:0')\n",
      "Epoch: 146, Loss: 1.1744, Train: 0.7259, Val: 2.0434, Test: 2.0471\n",
      "tensor([[ 356, 2786, 2035,  ..., 5181, 4394, 2332],\n",
      "        [  83,  395,  295,  ...,  812,  659,  337]], device='cuda:0')\n",
      "Epoch: 147, Loss: 1.1753, Train: 0.7059, Val: 2.0328, Test: 2.0362\n",
      "tensor([[ 356, 2786, 2035,  ..., 5181, 4394, 2332],\n",
      "        [  83,  395,  295,  ...,  812,  659,  337]], device='cuda:0')\n",
      "Epoch: 148, Loss: 1.1674, Train: 0.6889, Val: 2.0238, Test: 2.0269\n",
      "tensor([[ 356, 2786, 2035,  ..., 5181, 4394, 2332],\n",
      "        [  83,  395,  295,  ...,  812,  659,  337]], device='cuda:0')\n",
      "Epoch: 149, Loss: 1.1706, Train: 0.7258, Val: 2.0469, Test: 2.0501\n",
      "tensor([[ 356, 2786, 2035,  ..., 5181, 4394, 2332],\n",
      "        [  83,  395,  295,  ...,  812,  659,  337]], device='cuda:0')\n",
      "Epoch: 150, Loss: 1.1686, Train: 0.7200, Val: 2.0445, Test: 2.0475\n",
      "tensor([[ 356, 2786, 2035,  ..., 5181, 4394, 2332],\n",
      "        [  83,  395,  295,  ...,  812,  659,  337]], device='cuda:0')\n",
      "Epoch: 151, Loss: 1.1634, Train: 0.6857, Val: 2.0244, Test: 2.0274\n",
      "tensor([[ 356, 2786, 2035,  ..., 5181, 4394, 2332],\n",
      "        [  83,  395,  295,  ...,  812,  659,  337]], device='cuda:0')\n",
      "Epoch: 152, Loss: 1.1635, Train: 0.7020, Val: 2.0370, Test: 2.0398\n",
      "tensor([[ 356, 2786, 2035,  ..., 5181, 4394, 2332],\n",
      "        [  83,  395,  295,  ...,  812,  659,  337]], device='cuda:0')\n",
      "Epoch: 153, Loss: 1.1542, Train: 0.7227, Val: 2.0516, Test: 2.0542\n",
      "tensor([[ 356, 2786, 2035,  ..., 5181, 4394, 2332],\n",
      "        [  83,  395,  295,  ...,  812,  659,  337]], device='cuda:0')\n",
      "Epoch: 154, Loss: 1.1560, Train: 0.7064, Val: 2.0432, Test: 2.0457\n",
      "tensor([[ 356, 2786, 2035,  ..., 5181, 4394, 2332],\n",
      "        [  83,  395,  295,  ...,  812,  659,  337]], device='cuda:0')\n",
      "Epoch: 155, Loss: 1.1491, Train: 0.6887, Val: 2.0326, Test: 2.0350\n",
      "tensor([[ 356, 2786, 2035,  ..., 5181, 4394, 2332],\n",
      "        [  83,  395,  295,  ...,  812,  659,  337]], device='cuda:0')\n",
      "Epoch: 156, Loss: 1.1509, Train: 0.7088, Val: 2.0459, Test: 2.0482\n",
      "tensor([[ 356, 2786, 2035,  ..., 5181, 4394, 2332],\n",
      "        [  83,  395,  295,  ...,  812,  659,  337]], device='cuda:0')\n",
      "Epoch: 157, Loss: 1.1444, Train: 0.7140, Val: 2.0496, Test: 2.0518\n",
      "tensor([[ 356, 2786, 2035,  ..., 5181, 4394, 2332],\n",
      "        [  83,  395,  295,  ...,  812,  659,  337]], device='cuda:0')\n",
      "Epoch: 158, Loss: 1.1443, Train: 0.6923, Val: 2.0374, Test: 2.0395\n",
      "tensor([[ 356, 2786, 2035,  ..., 5181, 4394, 2332],\n",
      "        [  83,  395,  295,  ...,  812,  659,  337]], device='cuda:0')\n",
      "Epoch: 159, Loss: 1.1406, Train: 0.6940, Val: 2.0400, Test: 2.0420\n",
      "tensor([[ 356, 2786, 2035,  ..., 5181, 4394, 2332],\n",
      "        [  83,  395,  295,  ...,  812,  659,  337]], device='cuda:0')\n",
      "Epoch: 160, Loss: 1.1372, Train: 0.7100, Val: 2.0516, Test: 2.0534\n",
      "tensor([[ 356, 2786, 2035,  ..., 5181, 4394, 2332],\n",
      "        [  83,  395,  295,  ...,  812,  659,  337]], device='cuda:0')\n",
      "Epoch: 161, Loss: 1.1355, Train: 0.7021, Val: 2.0481, Test: 2.0498\n",
      "tensor([[ 356, 2786, 2035,  ..., 5181, 4394, 2332],\n",
      "        [  83,  395,  295,  ...,  812,  659,  337]], device='cuda:0')\n",
      "Epoch: 162, Loss: 1.1318, Train: 0.6907, Val: 2.0412, Test: 2.0430\n",
      "tensor([[ 356, 2786, 2035,  ..., 5181, 4394, 2332],\n",
      "        [  83,  395,  295,  ...,  812,  659,  337]], device='cuda:0')\n",
      "Epoch: 163, Loss: 1.1312, Train: 0.7047, Val: 2.0497, Test: 2.0514\n",
      "tensor([[ 356, 2786, 2035,  ..., 5181, 4394, 2332],\n",
      "        [  83,  395,  295,  ...,  812,  659,  337]], device='cuda:0')\n",
      "Epoch: 164, Loss: 1.1281, Train: 0.7009, Val: 2.0474, Test: 2.0491\n",
      "tensor([[ 356, 2786, 2035,  ..., 5181, 4394, 2332],\n",
      "        [  83,  395,  295,  ...,  812,  659,  337]], device='cuda:0')\n",
      "Epoch: 165, Loss: 1.1256, Train: 0.6862, Val: 2.0390, Test: 2.0407\n",
      "tensor([[ 356, 2786, 2035,  ..., 5181, 4394, 2332],\n",
      "        [  83,  395,  295,  ...,  812,  659,  337]], device='cuda:0')\n",
      "Epoch: 166, Loss: 1.1243, Train: 0.6988, Val: 2.0484, Test: 2.0498\n",
      "tensor([[ 356, 2786, 2035,  ..., 5181, 4394, 2332],\n",
      "        [  83,  395,  295,  ...,  812,  659,  337]], device='cuda:0')\n",
      "Epoch: 167, Loss: 1.1203, Train: 0.7044, Val: 2.0528, Test: 2.0541\n",
      "tensor([[ 356, 2786, 2035,  ..., 5181, 4394, 2332],\n",
      "        [  83,  395,  295,  ...,  812,  659,  337]], device='cuda:0')\n",
      "Epoch: 168, Loss: 1.1191, Train: 0.6881, Val: 2.0434, Test: 2.0446\n",
      "tensor([[ 356, 2786, 2035,  ..., 5181, 4394, 2332],\n",
      "        [  83,  395,  295,  ...,  812,  659,  337]], device='cuda:0')\n",
      "Epoch: 169, Loss: 1.1174, Train: 0.6955, Val: 2.0483, Test: 2.0493\n",
      "tensor([[ 356, 2786, 2035,  ..., 5181, 4394, 2332],\n",
      "        [  83,  395,  295,  ...,  812,  659,  337]], device='cuda:0')\n",
      "Epoch: 170, Loss: 1.1132, Train: 0.7017, Val: 2.0522, Test: 2.0532\n",
      "tensor([[ 356, 2786, 2035,  ..., 5181, 4394, 2332],\n",
      "        [  83,  395,  295,  ...,  812,  659,  337]], device='cuda:0')\n",
      "Epoch: 171, Loss: 1.1128, Train: 0.6868, Val: 2.0437, Test: 2.0446\n",
      "tensor([[ 356, 2786, 2035,  ..., 5181, 4394, 2332],\n",
      "        [  83,  395,  295,  ...,  812,  659,  337]], device='cuda:0')\n",
      "Epoch: 172, Loss: 1.1093, Train: 0.6875, Val: 2.0458, Test: 2.0466\n",
      "tensor([[ 356, 2786, 2035,  ..., 5181, 4394, 2332],\n",
      "        [  83,  395,  295,  ...,  812,  659,  337]], device='cuda:0')\n",
      "Epoch: 173, Loss: 1.1069, Train: 0.7024, Val: 2.0562, Test: 2.0571\n",
      "tensor([[ 356, 2786, 2035,  ..., 5181, 4394, 2332],\n",
      "        [  83,  395,  295,  ...,  812,  659,  337]], device='cuda:0')\n",
      "Epoch: 174, Loss: 1.1064, Train: 0.6906, Val: 2.0495, Test: 2.0502\n",
      "tensor([[ 356, 2786, 2035,  ..., 5181, 4394, 2332],\n",
      "        [  83,  395,  295,  ...,  812,  659,  337]], device='cuda:0')\n",
      "Epoch: 175, Loss: 1.1021, Train: 0.6838, Val: 2.0448, Test: 2.0456\n",
      "tensor([[ 356, 2786, 2035,  ..., 5181, 4394, 2332],\n",
      "        [  83,  395,  295,  ...,  812,  659,  337]], device='cuda:0')\n",
      "Epoch: 176, Loss: 1.1009, Train: 0.6987, Val: 2.0539, Test: 2.0546\n",
      "tensor([[ 356, 2786, 2035,  ..., 5181, 4394, 2332],\n",
      "        [  83,  395,  295,  ...,  812,  659,  337]], device='cuda:0')\n",
      "Epoch: 177, Loss: 1.1007, Train: 0.6879, Val: 2.0477, Test: 2.0482\n",
      "tensor([[ 356, 2786, 2035,  ..., 5181, 4394, 2332],\n",
      "        [  83,  395,  295,  ...,  812,  659,  337]], device='cuda:0')\n",
      "Epoch: 178, Loss: 1.0961, Train: 0.6776, Val: 2.0425, Test: 2.0427\n",
      "tensor([[ 356, 2786, 2035,  ..., 5181, 4394, 2332],\n",
      "        [  83,  395,  295,  ...,  812,  659,  337]], device='cuda:0')\n",
      "Epoch: 179, Loss: 1.0969, Train: 0.7027, Val: 2.0596, Test: 2.0597\n",
      "tensor([[ 356, 2786, 2035,  ..., 5181, 4394, 2332],\n",
      "        [  83,  395,  295,  ...,  812,  659,  337]], device='cuda:0')\n",
      "Epoch: 180, Loss: 1.0948, Train: 0.6927, Val: 2.0537, Test: 2.0537\n",
      "tensor([[ 356, 2786, 2035,  ..., 5181, 4394, 2332],\n",
      "        [  83,  395,  295,  ...,  812,  659,  337]], device='cuda:0')\n",
      "Epoch: 181, Loss: 1.0902, Train: 0.6726, Val: 2.0402, Test: 2.0400\n",
      "tensor([[ 356, 2786, 2035,  ..., 5181, 4394, 2332],\n",
      "        [  83,  395,  295,  ...,  812,  659,  337]], device='cuda:0')\n",
      "Epoch: 182, Loss: 1.0916, Train: 0.6947, Val: 2.0548, Test: 2.0549\n",
      "tensor([[ 356, 2786, 2035,  ..., 5181, 4394, 2332],\n",
      "        [  83,  395,  295,  ...,  812,  659,  337]], device='cuda:0')\n",
      "Epoch: 183, Loss: 1.0876, Train: 0.6941, Val: 2.0553, Test: 2.0554\n",
      "tensor([[ 356, 2786, 2035,  ..., 5181, 4394, 2332],\n",
      "        [  83,  395,  295,  ...,  812,  659,  337]], device='cuda:0')\n",
      "Epoch: 184, Loss: 1.0851, Train: 0.6738, Val: 2.0436, Test: 2.0436\n",
      "tensor([[ 356, 2786, 2035,  ..., 5181, 4394, 2332],\n",
      "        [  83,  395,  295,  ...,  812,  659,  337]], device='cuda:0')\n",
      "Epoch: 185, Loss: 1.0842, Train: 0.6885, Val: 2.0546, Test: 2.0548\n",
      "tensor([[ 356, 2786, 2035,  ..., 5181, 4394, 2332],\n",
      "        [  83,  395,  295,  ...,  812,  659,  337]], device='cuda:0')\n",
      "Epoch: 186, Loss: 1.0797, Train: 0.6968, Val: 2.0600, Test: 2.0605\n",
      "tensor([[ 356, 2786, 2035,  ..., 5181, 4394, 2332],\n",
      "        [  83,  395,  295,  ...,  812,  659,  337]], device='cuda:0')\n",
      "Epoch: 187, Loss: 1.0795, Train: 0.6765, Val: 2.0464, Test: 2.0470\n",
      "tensor([[ 356, 2786, 2035,  ..., 5181, 4394, 2332],\n",
      "        [  83,  395,  295,  ...,  812,  659,  337]], device='cuda:0')\n",
      "Epoch: 188, Loss: 1.0756, Train: 0.6737, Val: 2.0448, Test: 2.0456\n",
      "tensor([[ 356, 2786, 2035,  ..., 5181, 4394, 2332],\n",
      "        [  83,  395,  295,  ...,  812,  659,  337]], device='cuda:0')\n",
      "Epoch: 189, Loss: 1.0743, Train: 0.6964, Val: 2.0603, Test: 2.0611\n",
      "tensor([[ 356, 2786, 2035,  ..., 5181, 4394, 2332],\n",
      "        [  83,  395,  295,  ...,  812,  659,  337]], device='cuda:0')\n",
      "Epoch: 190, Loss: 1.0745, Train: 0.6840, Val: 2.0531, Test: 2.0538\n",
      "tensor([[ 356, 2786, 2035,  ..., 5181, 4394, 2332],\n",
      "        [  83,  395,  295,  ...,  812,  659,  337]], device='cuda:0')\n",
      "Epoch: 191, Loss: 1.0692, Train: 0.6658, Val: 2.0415, Test: 2.0419\n",
      "tensor([[ 356, 2786, 2035,  ..., 5181, 4394, 2332],\n",
      "        [  83,  395,  295,  ...,  812,  659,  337]], device='cuda:0')\n",
      "Epoch: 192, Loss: 1.0732, Train: 0.6969, Val: 2.0625, Test: 2.0631\n",
      "tensor([[ 356, 2786, 2035,  ..., 5181, 4394, 2332],\n",
      "        [  83,  395,  295,  ...,  812,  659,  337]], device='cuda:0')\n",
      "Epoch: 193, Loss: 1.0688, Train: 0.6887, Val: 2.0571, Test: 2.0577\n",
      "tensor([[ 356, 2786, 2035,  ..., 5181, 4394, 2332],\n",
      "        [  83,  395,  295,  ...,  812,  659,  337]], device='cuda:0')\n",
      "Epoch: 194, Loss: 1.0649, Train: 0.6611, Val: 2.0387, Test: 2.0391\n",
      "tensor([[ 356, 2786, 2035,  ..., 5181, 4394, 2332],\n",
      "        [  83,  395,  295,  ...,  812,  659,  337]], device='cuda:0')\n",
      "Epoch: 195, Loss: 1.0669, Train: 0.6823, Val: 2.0549, Test: 2.0554\n",
      "tensor([[ 356, 2786, 2035,  ..., 5181, 4394, 2332],\n",
      "        [  83,  395,  295,  ...,  812,  659,  337]], device='cuda:0')\n",
      "Epoch: 196, Loss: 1.0595, Train: 0.6976, Val: 2.0655, Test: 2.0661\n",
      "tensor([[ 356, 2786, 2035,  ..., 5181, 4394, 2332],\n",
      "        [  83,  395,  295,  ...,  812,  659,  337]], device='cuda:0')\n",
      "Epoch: 197, Loss: 1.0611, Train: 0.6698, Val: 2.0472, Test: 2.0476\n",
      "tensor([[ 356, 2786, 2035,  ..., 5181, 4394, 2332],\n",
      "        [  83,  395,  295,  ...,  812,  659,  337]], device='cuda:0')\n",
      "Epoch: 198, Loss: 1.0572, Train: 0.6721, Val: 2.0481, Test: 2.0487\n",
      "tensor([[ 356, 2786, 2035,  ..., 5181, 4394, 2332],\n",
      "        [  83,  395,  295,  ...,  812,  659,  337]], device='cuda:0')\n",
      "Epoch: 199, Loss: 1.0538, Train: 0.6868, Val: 2.0581, Test: 2.0587\n"
     ]
    }
   ],
   "source": [
    "best_val_rmse = float('inf')\n",
    "for epoch in range(1,200):\n",
    "    # Convert edge_index to the appropriate format\n",
    "    # adding both \n",
    "    loss = train()\n",
    "    train_rmse = test(train_data)\n",
    "    val_rmse = test(val_data)\n",
    "    test_rmse = test(test_data)\n",
    "    if val_rmse < best_val_rmse:\n",
    "        best_val_rmse = val_rmse\n",
    "        torch.save(model.state_dict(), 'amazon_best_model.pt')\n",
    "\n",
    "    print(f'Epoch: {epoch:03d}, Loss: {loss:.4f}, Train: {train_rmse:.4f}, '\n",
    "          f'Val: {val_rmse:.4f}, Test: {test_rmse:.4f}')"
   ]
  },
  {
   "cell_type": "code",
   "execution_count": 78,
   "metadata": {},
   "outputs": [
    {
     "data": {
      "image/png": "[encoded data removed]",
      "text/plain": [
       "<Figure size 640x480 with 1 Axes>"
      ]
     },
     "metadata": {},
     "output_type": "display_data"
    }
   ],
   "source": [
    "# Graphing training loss vs validation loss vs epoch\n",
    "plt.plot(train_losses, label='Training Loss')\n",
    "plt.plot(val_losses, label='Validation Loss')\n",
    "plt.xlabel('Epoch')\n",
    "plt.ylabel('Loss')\n",
    "plt.xlim(0, 200)\n",
    "plt.ylim(0,30)\n",
    "plt.legend()\n",
    "plt.title('Training and Validation Loss')\n",
    "plt.show()"
   ]
  },
  {
   "cell_type": "code",
   "execution_count": null,
   "metadata": {},
   "outputs": [],
   "source": [
    "##-> observation, making product embeddings fancier doesn't seem to have done much"
   ]
  },
  {
   "cell_type": "code",
   "execution_count": 82,
   "metadata": {},
   "outputs": [],
   "source": [
    "def get_product_recommendations(model, data, user_id, total_products):\n",
    "    user_row = torch.tensor([user_id] * total_products).to(device)\n",
    "    #print(\"user row is\", user_row)\n",
    "    all_product_ids = torch.arange(total_products).to(device)\n",
    "    edge_label_index = torch.stack([user_row, all_product_ids], dim=0)\n",
    "\n",
    "    pred = model(data.x_dict, data.edge_index_dict, edge_label_index).to('cpu')\n",
    "    top_five_indices = pred.topk(5).indices\n",
    "\n",
    "    recommended_products = reviews_df[\"product_id\"].iloc[top_five_indices]\n",
    "    return recommended_products"
   ]
  },
  {
   "cell_type": "code",
   "execution_count": 85,
   "metadata": {},
   "outputs": [
    {
     "name": "stdout",
     "output_type": "stream",
     "text": [
      "739    B000F9Z1WI\n",
      "862    B000FFRY3G\n",
      "125    B0002TJAZK\n",
      "454    B000E7WM0K\n",
      "693    B000F7PW8S\n",
      "Name: product_id, dtype: object\n",
      "\n",
      "\n",
      "739    B000F9Z1WI\n",
      "862    B000FFRY3G\n",
      "125    B0002TJAZK\n",
      "454    B000E7WM0K\n",
      "693    B000F7PW8S\n",
      "Name: product_id, dtype: object\n"
     ]
    }
   ],
   "source": [
    "rec1 = get_product_recommendations(model, data, 0, len(products))\n",
    "rec2 = get_product_recommendations(model, data, 2, len(products))\n",
    "print(rec1)\n",
    "print(\"\\n\")\n",
    "print(rec2)\n"
   ]
  },
  {
   "cell_type": "code",
   "execution_count": 88,
   "metadata": {},
   "outputs": [
    {
     "name": "stderr",
     "output_type": "stream",
     "text": [
      "100%|██████████| 10/10 [00:00<00:00, 55.24it/s]\n"
     ]
    }
   ],
   "source": [
    "#TODO cosine similarity - op on embeddings\n",
    "#Look into arith. ops on embeddings in general\n",
    "total_users = len(users)\n",
    "total_prods = len(products)\n",
    "prod_recs = []\n",
    "for user_id in tqdm(range(0, 10)):\n",
    "    user_row = torch.tensor([user_id] * total_prods)\n",
    "    all_prod_ids = torch.arange(total_prods)\n",
    "    edge_label_index = torch.stack([user_row, all_prod_ids], dim=0)\n",
    "    pred = model(data.x_dict, data.edge_index_dict,\n",
    "             edge_label_index)\n",
    "    pred = pred.clamp(min=0, max=5)\n",
    "    # we will only select products for the user where the predicting rating is > 3.5 \n",
    "    #TODO understand why 3.5 is important value here; 4 gives empty arrays, 1 gives uniform arrays\n",
    "    #for example, pred>3.7 is empty arrays for all but user 5 out of 10 users\n",
    "    rec_prod_ids = (pred > 4.55).nonzero(as_tuple=True)\n",
    "    top_ten_recs = [rec_prods for rec_prods in rec_prod_ids[0].tolist()[:10]]\n",
    "    prod_recs.append({'user': user_id, 'rec_products': top_ten_recs})"
   ]
  },
  {
   "cell_type": "code",
   "execution_count": 89,
   "metadata": {},
   "outputs": [
    {
     "name": "stdout",
     "output_type": "stream",
     "text": [
      "[{'user': 0, 'rec_products': [0, 1, 2, 4, 5, 6, 9, 10, 12, 14]}, {'user': 1, 'rec_products': [0, 1, 2, 3, 4, 5, 6, 7, 8, 9]}, {'user': 2, 'rec_products': [0, 1, 2, 3, 4, 5, 6, 8, 9, 10]}, {'user': 3, 'rec_products': [0, 1, 2, 3, 4, 5, 6, 7, 8, 9]}, {'user': 4, 'rec_products': [0, 1, 2, 3, 4, 5, 6, 7, 8, 9]}, {'user': 5, 'rec_products': []}, {'user': 6, 'rec_products': []}, {'user': 7, 'rec_products': [0, 1, 2, 3, 4, 5, 6, 7, 8, 9]}, {'user': 8, 'rec_products': [0, 1, 2, 3, 4, 5, 6, 7, 8, 9]}, {'user': 9, 'rec_products': [125, 454, 693, 739, 862]}]\n"
     ]
    }
   ],
   "source": [
    "print(prod_recs)"
   ]
  }
 ],
 "metadata": {
  "kernelspec": {
   "display_name": ".venv",
   "language": "python",
   "name": "python3"
  },
  "language_info": {
   "codemirror_mode": {
    "name": "ipython",
    "version": 3
   },
   "file_extension": ".py",
   "mimetype": "text/x-python",
   "name": "python",
   "nbconvert_exporter": "python",
   "pygments_lexer": "ipython3",
   "version": "3.12.3"
  }
 },
 "nbformat": 4,
 "nbformat_minor": 2
}
